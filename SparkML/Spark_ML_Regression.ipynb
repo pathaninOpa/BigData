{
  "cells": [
    {
      "cell_type": "code",
      "execution_count": 1,
      "metadata": {
        "colab": {
          "base_uri": "https://localhost:8080/"
        },
        "id": "FAtJ8Jh_z-7t",
        "outputId": "25e9d805-aef0-4a40-d9e0-2b7ed150471f"
      },
      "outputs": [
        {
          "name": "stdout",
          "output_type": "stream",
          "text": [
            "Collecting pyspark\n",
            "  Downloading pyspark-3.5.1.tar.gz (317.0 MB)\n",
            "\u001b[2K     \u001b[90m━━━━━━━━━━━━━━━━━━━━━━━━━━━━━━━━━━━━━━━━\u001b[0m \u001b[32m317.0/317.0 MB\u001b[0m \u001b[31m3.7 MB/s\u001b[0m eta \u001b[36m0:00:00\u001b[0m\n",
            "\u001b[?25h  Preparing metadata (setup.py) ... \u001b[?25l\u001b[?25hdone\n",
            "Requirement already satisfied: py4j==0.10.9.7 in /usr/local/lib/python3.10/dist-packages (from pyspark) (0.10.9.7)\n",
            "Building wheels for collected packages: pyspark\n",
            "  Building wheel for pyspark (setup.py) ... \u001b[?25l\u001b[?25hdone\n",
            "  Created wheel for pyspark: filename=pyspark-3.5.1-py2.py3-none-any.whl size=317488491 sha256=0240f3d18f736055343bf569dbda16f14d6c02131f8baa91e59bfd5dde23dd9c\n",
            "  Stored in directory: /root/.cache/pip/wheels/80/1d/60/2c256ed38dddce2fdd93be545214a63e02fbd8d74fb0b7f3a6\n",
            "Successfully built pyspark\n",
            "Installing collected packages: pyspark\n",
            "Successfully installed pyspark-3.5.1\n",
            "Collecting findspark\n",
            "  Downloading findspark-2.0.1-py2.py3-none-any.whl (4.4 kB)\n",
            "Installing collected packages: findspark\n",
            "Successfully installed findspark-2.0.1\n"
          ]
        }
      ],
      "source": [
        "# Installing required packages\n",
        "!pip install pyspark\n",
        "!pip install findspark"
      ]
    },
    {
      "cell_type": "code",
      "execution_count": 6,
      "metadata": {
        "id": "e34Q4qnfz-y8"
      },
      "outputs": [],
      "source": [
        "from pyspark import SparkContext, SparkConf\n",
        "from pyspark.sql import SparkSession\n",
        "import os\n",
        "os.environ['JAVA_HOME'] = 'D:\\\\Java\\\\jdk1.8.0_202\\\\'"
      ]
    },
    {
      "cell_type": "markdown",
      "metadata": {
        "id": "8axg4DFh06SW"
      },
      "source": []
    },
    {
      "cell_type": "code",
      "execution_count": 7,
      "metadata": {
        "collapsed": true,
        "id": "sqOwMWgOwBGi"
      },
      "outputs": [],
      "source": [
        "from pyspark.sql import SQLContext"
      ]
    },
    {
      "cell_type": "code",
      "execution_count": 8,
      "metadata": {
        "id": "eCkhgiSsYqtX"
      },
      "outputs": [],
      "source": [
        "spark = SparkSession \\\n",
        "    .builder \\\n",
        "    .appName(\"ML_Regression_Example2\") \\\n",
        "    .getOrCreate()"
      ]
    },
    {
      "cell_type": "markdown",
      "metadata": {
        "id": "xDOcBO-rkuPB"
      },
      "source": [
        "# Create Spark Context"
      ]
    },
    {
      "cell_type": "code",
      "execution_count": 10,
      "metadata": {
        "colab": {
          "base_uri": "https://localhost:8080/"
        },
        "collapsed": true,
        "id": "H0fnixykwBGl",
        "outputId": "58ceefd4-e6de-42c2-9013-060b1cb9d552"
      },
      "outputs": [
        {
          "name": "stderr",
          "output_type": "stream",
          "text": [
            "d:\\Python311\\Lib\\site-packages\\pyspark\\sql\\context.py:113: FutureWarning: Deprecated in 3.0.0. Use SparkSession.builder.getOrCreate() instead.\n",
            "  warnings.warn(\n"
          ]
        }
      ],
      "source": [
        "sc = spark.sparkContext\n",
        "\n",
        "\n",
        "sqlContext = SQLContext(sc)"
      ]
    },
    {
      "cell_type": "code",
      "execution_count": 6,
      "metadata": {
        "colab": {
          "base_uri": "https://localhost:8080/",
          "height": 73
        },
        "id": "FWglhYsLwPL0",
        "outputId": "aa940ce6-26b2-4e62-8607-b874c06b6bca"
      },
      "outputs": [
        {
          "data": {
            "text/html": [
              "\n",
              "     <input type=\"file\" id=\"files-95e15eb4-1869-4247-8b29-3d413b875863\" name=\"files[]\" multiple disabled\n",
              "        style=\"border:none\" />\n",
              "     <output id=\"result-95e15eb4-1869-4247-8b29-3d413b875863\">\n",
              "      Upload widget is only available when the cell has been executed in the\n",
              "      current browser session. Please rerun this cell to enable.\n",
              "      </output>\n",
              "      <script>// Copyright 2017 Google LLC\n",
              "//\n",
              "// Licensed under the Apache License, Version 2.0 (the \"License\");\n",
              "// you may not use this file except in compliance with the License.\n",
              "// You may obtain a copy of the License at\n",
              "//\n",
              "//      http://www.apache.org/licenses/LICENSE-2.0\n",
              "//\n",
              "// Unless required by applicable law or agreed to in writing, software\n",
              "// distributed under the License is distributed on an \"AS IS\" BASIS,\n",
              "// WITHOUT WARRANTIES OR CONDITIONS OF ANY KIND, either express or implied.\n",
              "// See the License for the specific language governing permissions and\n",
              "// limitations under the License.\n",
              "\n",
              "/**\n",
              " * @fileoverview Helpers for google.colab Python module.\n",
              " */\n",
              "(function(scope) {\n",
              "function span(text, styleAttributes = {}) {\n",
              "  const element = document.createElement('span');\n",
              "  element.textContent = text;\n",
              "  for (const key of Object.keys(styleAttributes)) {\n",
              "    element.style[key] = styleAttributes[key];\n",
              "  }\n",
              "  return element;\n",
              "}\n",
              "\n",
              "// Max number of bytes which will be uploaded at a time.\n",
              "const MAX_PAYLOAD_SIZE = 100 * 1024;\n",
              "\n",
              "function _uploadFiles(inputId, outputId) {\n",
              "  const steps = uploadFilesStep(inputId, outputId);\n",
              "  const outputElement = document.getElementById(outputId);\n",
              "  // Cache steps on the outputElement to make it available for the next call\n",
              "  // to uploadFilesContinue from Python.\n",
              "  outputElement.steps = steps;\n",
              "\n",
              "  return _uploadFilesContinue(outputId);\n",
              "}\n",
              "\n",
              "// This is roughly an async generator (not supported in the browser yet),\n",
              "// where there are multiple asynchronous steps and the Python side is going\n",
              "// to poll for completion of each step.\n",
              "// This uses a Promise to block the python side on completion of each step,\n",
              "// then passes the result of the previous step as the input to the next step.\n",
              "function _uploadFilesContinue(outputId) {\n",
              "  const outputElement = document.getElementById(outputId);\n",
              "  const steps = outputElement.steps;\n",
              "\n",
              "  const next = steps.next(outputElement.lastPromiseValue);\n",
              "  return Promise.resolve(next.value.promise).then((value) => {\n",
              "    // Cache the last promise value to make it available to the next\n",
              "    // step of the generator.\n",
              "    outputElement.lastPromiseValue = value;\n",
              "    return next.value.response;\n",
              "  });\n",
              "}\n",
              "\n",
              "/**\n",
              " * Generator function which is called between each async step of the upload\n",
              " * process.\n",
              " * @param {string} inputId Element ID of the input file picker element.\n",
              " * @param {string} outputId Element ID of the output display.\n",
              " * @return {!Iterable<!Object>} Iterable of next steps.\n",
              " */\n",
              "function* uploadFilesStep(inputId, outputId) {\n",
              "  const inputElement = document.getElementById(inputId);\n",
              "  inputElement.disabled = false;\n",
              "\n",
              "  const outputElement = document.getElementById(outputId);\n",
              "  outputElement.innerHTML = '';\n",
              "\n",
              "  const pickedPromise = new Promise((resolve) => {\n",
              "    inputElement.addEventListener('change', (e) => {\n",
              "      resolve(e.target.files);\n",
              "    });\n",
              "  });\n",
              "\n",
              "  const cancel = document.createElement('button');\n",
              "  inputElement.parentElement.appendChild(cancel);\n",
              "  cancel.textContent = 'Cancel upload';\n",
              "  const cancelPromise = new Promise((resolve) => {\n",
              "    cancel.onclick = () => {\n",
              "      resolve(null);\n",
              "    };\n",
              "  });\n",
              "\n",
              "  // Wait for the user to pick the files.\n",
              "  const files = yield {\n",
              "    promise: Promise.race([pickedPromise, cancelPromise]),\n",
              "    response: {\n",
              "      action: 'starting',\n",
              "    }\n",
              "  };\n",
              "\n",
              "  cancel.remove();\n",
              "\n",
              "  // Disable the input element since further picks are not allowed.\n",
              "  inputElement.disabled = true;\n",
              "\n",
              "  if (!files) {\n",
              "    return {\n",
              "      response: {\n",
              "        action: 'complete',\n",
              "      }\n",
              "    };\n",
              "  }\n",
              "\n",
              "  for (const file of files) {\n",
              "    const li = document.createElement('li');\n",
              "    li.append(span(file.name, {fontWeight: 'bold'}));\n",
              "    li.append(span(\n",
              "        `(${file.type || 'n/a'}) - ${file.size} bytes, ` +\n",
              "        `last modified: ${\n",
              "            file.lastModifiedDate ? file.lastModifiedDate.toLocaleDateString() :\n",
              "                                    'n/a'} - `));\n",
              "    const percent = span('0% done');\n",
              "    li.appendChild(percent);\n",
              "\n",
              "    outputElement.appendChild(li);\n",
              "\n",
              "    const fileDataPromise = new Promise((resolve) => {\n",
              "      const reader = new FileReader();\n",
              "      reader.onload = (e) => {\n",
              "        resolve(e.target.result);\n",
              "      };\n",
              "      reader.readAsArrayBuffer(file);\n",
              "    });\n",
              "    // Wait for the data to be ready.\n",
              "    let fileData = yield {\n",
              "      promise: fileDataPromise,\n",
              "      response: {\n",
              "        action: 'continue',\n",
              "      }\n",
              "    };\n",
              "\n",
              "    // Use a chunked sending to avoid message size limits. See b/62115660.\n",
              "    let position = 0;\n",
              "    do {\n",
              "      const length = Math.min(fileData.byteLength - position, MAX_PAYLOAD_SIZE);\n",
              "      const chunk = new Uint8Array(fileData, position, length);\n",
              "      position += length;\n",
              "\n",
              "      const base64 = btoa(String.fromCharCode.apply(null, chunk));\n",
              "      yield {\n",
              "        response: {\n",
              "          action: 'append',\n",
              "          file: file.name,\n",
              "          data: base64,\n",
              "        },\n",
              "      };\n",
              "\n",
              "      let percentDone = fileData.byteLength === 0 ?\n",
              "          100 :\n",
              "          Math.round((position / fileData.byteLength) * 100);\n",
              "      percent.textContent = `${percentDone}% done`;\n",
              "\n",
              "    } while (position < fileData.byteLength);\n",
              "  }\n",
              "\n",
              "  // All done.\n",
              "  yield {\n",
              "    response: {\n",
              "      action: 'complete',\n",
              "    }\n",
              "  };\n",
              "}\n",
              "\n",
              "scope.google = scope.google || {};\n",
              "scope.google.colab = scope.google.colab || {};\n",
              "scope.google.colab._files = {\n",
              "  _uploadFiles,\n",
              "  _uploadFilesContinue,\n",
              "};\n",
              "})(self);\n",
              "</script> "
            ],
            "text/plain": [
              "<IPython.core.display.HTML object>"
            ]
          },
          "metadata": {},
          "output_type": "display_data"
        },
        {
          "name": "stdout",
          "output_type": "stream",
          "text": [
            "Saving daily_weather.csv to daily_weather.csv\n"
          ]
        }
      ],
      "source": [
        "from google.colab import files\n",
        "uploaded = files.upload()\n"
      ]
    },
    {
      "cell_type": "markdown",
      "metadata": {
        "id": "Ac8MHqWOkyvb"
      },
      "source": []
    },
    {
      "cell_type": "code",
      "execution_count": 5,
      "metadata": {
        "collapsed": true,
        "id": "ZWAofGUswBGl"
      },
      "outputs": [],
      "source": [
        "file='daily_weather.csv'\n",
        "\n",
        "df = sqlContext.read.load(file,\n",
        "                          format='com.databricks.spark.csv',\n",
        "                          header='true',inferSchema='true')"
      ]
    },
    {
      "cell_type": "code",
      "execution_count": 6,
      "metadata": {
        "colab": {
          "base_uri": "https://localhost:8080/"
        },
        "id": "YeX5KsGXwBGm",
        "outputId": "d842359c-06ea-447d-eb82-fb47cd3e42cf"
      },
      "outputs": [
        {
          "data": {
            "text/plain": [
              "['number',\n",
              " 'air_pressure_9am',\n",
              " 'air_temp_9am',\n",
              " 'avg_wind_direction_9am',\n",
              " 'avg_wind_speed_9am',\n",
              " 'max_wind_direction_9am',\n",
              " 'max_wind_speed_9am',\n",
              " 'rain_accumulation_9am',\n",
              " 'rain_duration_9am',\n",
              " 'relative_humidity_9am',\n",
              " 'relative_humidity_3pm']"
            ]
          },
          "execution_count": 6,
          "metadata": {},
          "output_type": "execute_result"
        }
      ],
      "source": [
        "df.columns"
      ]
    },
    {
      "cell_type": "code",
      "execution_count": 7,
      "metadata": {
        "colab": {
          "base_uri": "https://localhost:8080/"
        },
        "id": "-vjXANWwwBGm",
        "outputId": "dc091f6a-5fed-478f-fcf2-a1702ea2c2eb"
      },
      "outputs": [
        {
          "name": "stdout",
          "output_type": "stream",
          "text": [
            "root\n",
            " |-- number: integer (nullable = true)\n",
            " |-- air_pressure_9am: double (nullable = true)\n",
            " |-- air_temp_9am: double (nullable = true)\n",
            " |-- avg_wind_direction_9am: double (nullable = true)\n",
            " |-- avg_wind_speed_9am: double (nullable = true)\n",
            " |-- max_wind_direction_9am: double (nullable = true)\n",
            " |-- max_wind_speed_9am: double (nullable = true)\n",
            " |-- rain_accumulation_9am: double (nullable = true)\n",
            " |-- rain_duration_9am: double (nullable = true)\n",
            " |-- relative_humidity_9am: double (nullable = true)\n",
            " |-- relative_humidity_3pm: double (nullable = true)\n",
            "\n"
          ]
        }
      ],
      "source": [
        "df.printSchema()"
      ]
    },
    {
      "cell_type": "code",
      "execution_count": 9,
      "metadata": {
        "colab": {
          "base_uri": "https://localhost:8080/",
          "height": 426
        },
        "id": "3WM1mgbBwBGn",
        "outputId": "5af617d7-d69a-45ed-a6f4-66ff4e8990eb"
      },
      "outputs": [
        {
          "data": {
            "text/html": [
              "<div>\n",
              "<style scoped>\n",
              "    .dataframe tbody tr th:only-of-type {\n",
              "        vertical-align: middle;\n",
              "    }\n",
              "\n",
              "    .dataframe tbody tr th {\n",
              "        vertical-align: top;\n",
              "    }\n",
              "\n",
              "    .dataframe thead th {\n",
              "        text-align: right;\n",
              "    }\n",
              "</style>\n",
              "<table border=\"1\" class=\"dataframe\">\n",
              "  <thead>\n",
              "    <tr style=\"text-align: right;\">\n",
              "      <th></th>\n",
              "      <th>0</th>\n",
              "      <th>1</th>\n",
              "      <th>2</th>\n",
              "      <th>3</th>\n",
              "      <th>4</th>\n",
              "    </tr>\n",
              "  </thead>\n",
              "  <tbody>\n",
              "    <tr>\n",
              "      <th>summary</th>\n",
              "      <td>count</td>\n",
              "      <td>mean</td>\n",
              "      <td>stddev</td>\n",
              "      <td>min</td>\n",
              "      <td>max</td>\n",
              "    </tr>\n",
              "    <tr>\n",
              "      <th>number</th>\n",
              "      <td>1095</td>\n",
              "      <td>547.0</td>\n",
              "      <td>316.24357700987383</td>\n",
              "      <td>0</td>\n",
              "      <td>1094</td>\n",
              "    </tr>\n",
              "    <tr>\n",
              "      <th>air_pressure_9am</th>\n",
              "      <td>1092</td>\n",
              "      <td>918.8825513138094</td>\n",
              "      <td>3.184161180386833</td>\n",
              "      <td>907.9900000000024</td>\n",
              "      <td>929.3200000000012</td>\n",
              "    </tr>\n",
              "    <tr>\n",
              "      <th>air_temp_9am</th>\n",
              "      <td>1090</td>\n",
              "      <td>64.93300141287072</td>\n",
              "      <td>11.175514003175877</td>\n",
              "      <td>36.752000000000685</td>\n",
              "      <td>98.90599999999992</td>\n",
              "    </tr>\n",
              "    <tr>\n",
              "      <th>avg_wind_direction_9am</th>\n",
              "      <td>1091</td>\n",
              "      <td>142.2355107005759</td>\n",
              "      <td>69.13785928889189</td>\n",
              "      <td>15.500000000000046</td>\n",
              "      <td>343.4</td>\n",
              "    </tr>\n",
              "    <tr>\n",
              "      <th>avg_wind_speed_9am</th>\n",
              "      <td>1092</td>\n",
              "      <td>5.50828424225493</td>\n",
              "      <td>4.5528134655317185</td>\n",
              "      <td>0.69345139999974</td>\n",
              "      <td>23.554978199999763</td>\n",
              "    </tr>\n",
              "    <tr>\n",
              "      <th>max_wind_direction_9am</th>\n",
              "      <td>1092</td>\n",
              "      <td>148.95351796516923</td>\n",
              "      <td>67.23801294602953</td>\n",
              "      <td>28.89999999999991</td>\n",
              "      <td>312.19999999999993</td>\n",
              "    </tr>\n",
              "    <tr>\n",
              "      <th>max_wind_speed_9am</th>\n",
              "      <td>1091</td>\n",
              "      <td>7.019513529175272</td>\n",
              "      <td>5.598209170780958</td>\n",
              "      <td>1.1855782000000479</td>\n",
              "      <td>29.84077959999996</td>\n",
              "    </tr>\n",
              "    <tr>\n",
              "      <th>rain_accumulation_9am</th>\n",
              "      <td>1089</td>\n",
              "      <td>0.20307895225211126</td>\n",
              "      <td>1.5939521253574893</td>\n",
              "      <td>0.0</td>\n",
              "      <td>24.01999999999907</td>\n",
              "    </tr>\n",
              "    <tr>\n",
              "      <th>rain_duration_9am</th>\n",
              "      <td>1092</td>\n",
              "      <td>294.1080522756142</td>\n",
              "      <td>1598.0787786601481</td>\n",
              "      <td>0.0</td>\n",
              "      <td>17704.0</td>\n",
              "    </tr>\n",
              "    <tr>\n",
              "      <th>relative_humidity_9am</th>\n",
              "      <td>1095</td>\n",
              "      <td>34.24140205923536</td>\n",
              "      <td>25.472066802250055</td>\n",
              "      <td>6.090000000001012</td>\n",
              "      <td>92.6200000000002</td>\n",
              "    </tr>\n",
              "    <tr>\n",
              "      <th>relative_humidity_3pm</th>\n",
              "      <td>1095</td>\n",
              "      <td>35.34472714825898</td>\n",
              "      <td>22.524079453587273</td>\n",
              "      <td>5.3000000000006855</td>\n",
              "      <td>92.2500000000003</td>\n",
              "    </tr>\n",
              "  </tbody>\n",
              "</table>\n",
              "</div>"
            ],
            "text/plain": [
              "                            0                    1                   2  \\\n",
              "summary                 count                 mean              stddev   \n",
              "number                   1095                547.0  316.24357700987383   \n",
              "air_pressure_9am         1092    918.8825513138094   3.184161180386833   \n",
              "air_temp_9am             1090    64.93300141287072  11.175514003175877   \n",
              "avg_wind_direction_9am   1091    142.2355107005759   69.13785928889189   \n",
              "avg_wind_speed_9am       1092     5.50828424225493  4.5528134655317185   \n",
              "max_wind_direction_9am   1092   148.95351796516923   67.23801294602953   \n",
              "max_wind_speed_9am       1091    7.019513529175272   5.598209170780958   \n",
              "rain_accumulation_9am    1089  0.20307895225211126  1.5939521253574893   \n",
              "rain_duration_9am        1092    294.1080522756142  1598.0787786601481   \n",
              "relative_humidity_9am    1095    34.24140205923536  25.472066802250055   \n",
              "relative_humidity_3pm    1095    35.34472714825898  22.524079453587273   \n",
              "\n",
              "                                         3                   4  \n",
              "summary                                min                 max  \n",
              "number                                   0                1094  \n",
              "air_pressure_9am         907.9900000000024   929.3200000000012  \n",
              "air_temp_9am            36.752000000000685   98.90599999999992  \n",
              "avg_wind_direction_9am  15.500000000000046               343.4  \n",
              "avg_wind_speed_9am        0.69345139999974  23.554978199999763  \n",
              "max_wind_direction_9am   28.89999999999991  312.19999999999993  \n",
              "max_wind_speed_9am      1.1855782000000479   29.84077959999996  \n",
              "rain_accumulation_9am                  0.0   24.01999999999907  \n",
              "rain_duration_9am                      0.0             17704.0  \n",
              "relative_humidity_9am    6.090000000001012    92.6200000000002  \n",
              "relative_humidity_3pm   5.3000000000006855    92.2500000000003  "
            ]
          },
          "execution_count": 9,
          "metadata": {},
          "output_type": "execute_result"
        }
      ],
      "source": [
        "df.describe().toPandas().transpose()"
      ]
    },
    {
      "cell_type": "code",
      "execution_count": 10,
      "metadata": {
        "colab": {
          "base_uri": "https://localhost:8080/"
        },
        "id": "mf3GVJenwBGn",
        "outputId": "c815d6aa-a36f-4bab-9f42-19bca1e3a9e0"
      },
      "outputs": [
        {
          "name": "stdout",
          "output_type": "stream",
          "text": [
            "+-------+-----------------+\n",
            "|summary| air_pressure_9am|\n",
            "+-------+-----------------+\n",
            "|  count|             1092|\n",
            "|   mean|918.8825513138094|\n",
            "| stddev|3.184161180386833|\n",
            "|    min|907.9900000000024|\n",
            "|    max|929.3200000000012|\n",
            "+-------+-----------------+\n",
            "\n"
          ]
        }
      ],
      "source": [
        "df.describe('air_pressure_9am').show()"
      ]
    },
    {
      "cell_type": "code",
      "execution_count": 11,
      "metadata": {
        "id": "lfonE2o8wBGo"
      },
      "outputs": [
        {
          "data": {
            "text/plain": [
              "11"
            ]
          },
          "execution_count": 11,
          "metadata": {},
          "output_type": "execute_result"
        }
      ],
      "source": [
        "len(df.columns)"
      ]
    },
    {
      "cell_type": "code",
      "execution_count": 12,
      "metadata": {
        "id": "FftXD3KOwBGo"
      },
      "outputs": [
        {
          "data": {
            "text/plain": [
              "1095"
            ]
          },
          "execution_count": 12,
          "metadata": {},
          "output_type": "execute_result"
        }
      ],
      "source": [
        "df.count()"
      ]
    },
    {
      "cell_type": "code",
      "execution_count": 13,
      "metadata": {
        "collapsed": true,
        "id": "5-RpzxWlwBGo"
      },
      "outputs": [],
      "source": [
        "df2 = df.na.drop(subset=['air_pressure_9am'])"
      ]
    },
    {
      "cell_type": "code",
      "execution_count": 14,
      "metadata": {
        "id": "WSmrMMjFwBGp"
      },
      "outputs": [
        {
          "data": {
            "text/plain": [
              "1092"
            ]
          },
          "execution_count": 14,
          "metadata": {},
          "output_type": "execute_result"
        }
      ],
      "source": [
        "df2.count()"
      ]
    },
    {
      "cell_type": "code",
      "execution_count": 15,
      "metadata": {
        "id": "yyp3pn-1wBGp"
      },
      "outputs": [
        {
          "data": {
            "text/plain": [
              "0.7298253479609021"
            ]
          },
          "execution_count": 15,
          "metadata": {},
          "output_type": "execute_result"
        }
      ],
      "source": [
        "df2.stat.corr(\"rain_accumulation_9am\", \"rain_duration_9am\")"
      ]
    },
    {
      "cell_type": "markdown",
      "metadata": {
        "id": "HmX1U1HX2i3n"
      },
      "source": [
        "#  Regression"
      ]
    },
    {
      "cell_type": "code",
      "execution_count": 16,
      "metadata": {
        "id": "ElV2ZP113G1R"
      },
      "outputs": [],
      "source": [
        "from pyspark.sql import DataFrameNaFunctions\n",
        "from pyspark.ml.feature import VectorAssembler"
      ]
    },
    {
      "cell_type": "code",
      "execution_count": 17,
      "metadata": {
        "colab": {
          "base_uri": "https://localhost:8080/"
        },
        "id": "sh5Qm70Gggxu",
        "outputId": "830a1146-d324-42e3-bee8-ed551f36d8c7"
      },
      "outputs": [
        {
          "data": {
            "text/plain": [
              "(1095, 11)"
            ]
          },
          "execution_count": 17,
          "metadata": {},
          "output_type": "execute_result"
        }
      ],
      "source": [
        "df.count(), len(df.columns)"
      ]
    },
    {
      "cell_type": "code",
      "execution_count": 18,
      "metadata": {
        "id": "xCqzI9cR73op"
      },
      "outputs": [],
      "source": [
        "df = df.drop('number')"
      ]
    },
    {
      "cell_type": "code",
      "execution_count": 19,
      "metadata": {
        "id": "xuivl2G17508"
      },
      "outputs": [],
      "source": [
        "df = df.na.drop()"
      ]
    },
    {
      "cell_type": "code",
      "execution_count": 20,
      "metadata": {
        "colab": {
          "base_uri": "https://localhost:8080/"
        },
        "id": "_MJ0-zvTUevF",
        "outputId": "a86a8f07-cc64-4c98-f93e-a45ab3aeb024"
      },
      "outputs": [
        {
          "data": {
            "text/plain": [
              "(1064, 10)"
            ]
          },
          "execution_count": 20,
          "metadata": {},
          "output_type": "execute_result"
        }
      ],
      "source": [
        "df.count(), len(df.columns)"
      ]
    },
    {
      "cell_type": "code",
      "execution_count": 21,
      "metadata": {
        "colab": {
          "base_uri": "https://localhost:8080/"
        },
        "id": "bS6X46ZgVHAo",
        "outputId": "43d057d4-c468-451e-8a3c-d45f6fc36e88"
      },
      "outputs": [
        {
          "data": {
            "text/plain": [
              "['air_pressure_9am',\n",
              " 'air_temp_9am',\n",
              " 'avg_wind_direction_9am',\n",
              " 'avg_wind_speed_9am',\n",
              " 'max_wind_direction_9am',\n",
              " 'max_wind_speed_9am',\n",
              " 'rain_accumulation_9am',\n",
              " 'rain_duration_9am',\n",
              " 'relative_humidity_9am',\n",
              " 'relative_humidity_3pm']"
            ]
          },
          "execution_count": 21,
          "metadata": {},
          "output_type": "execute_result"
        }
      ],
      "source": [
        "df.columns"
      ]
    },
    {
      "cell_type": "code",
      "execution_count": 22,
      "metadata": {
        "id": "ktPd8SpG76hy"
      },
      "outputs": [],
      "source": [
        "featureColumns =df.columns[:-2]"
      ]
    },
    {
      "cell_type": "code",
      "execution_count": 32,
      "metadata": {
        "colab": {
          "base_uri": "https://localhost:8080/"
        },
        "id": "x6Q7g9314jBt",
        "outputId": "411f8ef0-d620-41da-e356-e090c8521465"
      },
      "outputs": [
        {
          "data": {
            "text/plain": [
              "['air_pressure_9am',\n",
              " 'air_temp_9am',\n",
              " 'avg_wind_direction_9am',\n",
              " 'avg_wind_speed_9am',\n",
              " 'max_wind_direction_9am',\n",
              " 'max_wind_speed_9am',\n",
              " 'rain_accumulation_9am',\n",
              " 'rain_duration_9am']"
            ]
          },
          "execution_count": 32,
          "metadata": {},
          "output_type": "execute_result"
        }
      ],
      "source": [
        "featureColumns"
      ]
    },
    {
      "cell_type": "code",
      "execution_count": 24,
      "metadata": {
        "id": "FEm523ct2sab"
      },
      "outputs": [],
      "source": [
        "assembler = VectorAssembler(inputCols=featureColumns, outputCol=\"features\")\n",
        "assembled = assembler.transform(df)"
      ]
    },
    {
      "cell_type": "code",
      "execution_count": 25,
      "metadata": {
        "colab": {
          "base_uri": "https://localhost:8080/"
        },
        "id": "sx7TeYw6VT3D",
        "outputId": "57078a90-2a5d-43e9-a563-d17196d50cbf"
      },
      "outputs": [
        {
          "name": "stdout",
          "output_type": "stream",
          "text": [
            "+-----------------+------------------+----------------------+------------------+----------------------+------------------+---------------------+-----------------+---------------------+---------------------+--------------------+\n",
            "| air_pressure_9am|      air_temp_9am|avg_wind_direction_9am|avg_wind_speed_9am|max_wind_direction_9am|max_wind_speed_9am|rain_accumulation_9am|rain_duration_9am|relative_humidity_9am|relative_humidity_3pm|            features|\n",
            "+-----------------+------------------+----------------------+------------------+----------------------+------------------+---------------------+-----------------+---------------------+---------------------+--------------------+\n",
            "|918.0600000000087| 74.82200000000041|                 271.1| 2.080354199999768|    295.39999999999986| 2.863283199999908|                  0.0|              0.0|    42.42000000000046|   36.160000000000494|[918.060000000008...|\n",
            "|917.3476881177097| 71.40384263106537|    101.93517935618371|2.4430092157340217|    140.47154847112498|3.5333236016106238|                  0.0|              0.0|   24.328697291802207|     19.4265967985621|[917.347688117709...|\n",
            "|923.0400000000084|60.637999999998776|    51.000000000000036|17.067852199999727|      63.6999999999999|22.100967200000003|                  0.0|             20.0|    8.900000000000047|   14.460000000000045|[923.040000000008...|\n",
            "|920.5027511759195| 70.13889486830053|    198.83213271746368| 4.337363056162703|    211.20334124325618| 5.190045360219378|                  0.0|              0.0|   12.189101868764444|   12.742547353761848|[920.502751175919...|\n",
            "|921.1600000000036| 44.29400000000284|                 277.8|1.8566601999998955|    136.49999999999991| 2.863283199999954|    8.899999999998613|          14730.0|    92.41000000000044|    76.74000000000046|[921.160000000003...|\n",
            "| 915.300000000006| 78.40400000000422|                 182.8|  9.93201359999979|    188.99999999999986|10.983375399999995|  0.02000000000043656|            170.0|   35.130000000000265|   33.930000000000256|[915.300000000006...|\n",
            "|915.5988675132801| 70.04330431686239|    177.87540718659943|3.7455865377244795|    186.60669587586753| 4.589632428699432|                  0.0|              0.0|   10.657421657822635|   21.385656725200974|[915.598867513280...|\n",
            "|918.0700000000023|51.710000000002346|                 242.4| 2.527742199999939|     271.5999999999999|3.6462121999999924|                  0.0|              0.0|    80.47000000000041|    74.92000000000041|[918.070000000002...|\n",
            "| 920.080000000006| 80.58200000000384|                  40.7| 4.518618799999764|     62.99999999999986| 5.883152199999977|                  0.0|              0.0|    29.58000000000045|   24.030000000000427|[920.080000000006...|\n",
            "|915.0100000000116|  47.4979999999998|    163.10000000000005| 4.943637399999545|    195.89999999999992| 6.576603599999951|                  0.0|              0.0|     88.6000000000012|     68.0500000000012|[915.010000000011...|\n",
            "+-----------------+------------------+----------------------+------------------+----------------------+------------------+---------------------+-----------------+---------------------+---------------------+--------------------+\n",
            "only showing top 10 rows\n",
            "\n"
          ]
        }
      ],
      "source": [
        "assembled.show(10)"
      ]
    },
    {
      "cell_type": "code",
      "execution_count": 33,
      "metadata": {
        "id": "LfsZ6RKZbB9_"
      },
      "outputs": [],
      "source": [
        "select_assembled=assembled.select(\"relative_humidity_3pm\",\"features\")\n",
        "select_assembled=select_assembled.withColumnRenamed(\"relative_humidity_3pm\",\"label\")"
      ]
    },
    {
      "cell_type": "code",
      "execution_count": 34,
      "metadata": {
        "id": "TFmGmVU72tnv"
      },
      "outputs": [],
      "source": [
        "(trainData, testData) = select_assembled.randomSplit([0.8,0.2], seed = 13234 )"
      ]
    },
    {
      "cell_type": "code",
      "execution_count": 35,
      "metadata": {
        "colab": {
          "base_uri": "https://localhost:8080/"
        },
        "id": "gaZkw9Pi2uzu",
        "outputId": "21124d23-9846-4f7d-84e4-3a405403f3d9"
      },
      "outputs": [
        {
          "data": {
            "text/plain": [
              "(846, 218)"
            ]
          },
          "execution_count": 35,
          "metadata": {},
          "output_type": "execute_result"
        }
      ],
      "source": [
        "trainData.count(),testData.count()"
      ]
    },
    {
      "cell_type": "code",
      "execution_count": 36,
      "metadata": {
        "id": "Tm3VSlxNWCqf"
      },
      "outputs": [],
      "source": [
        "from pyspark.ml.regression import LinearRegression\n"
      ]
    },
    {
      "cell_type": "code",
      "execution_count": 37,
      "metadata": {
        "colab": {
          "base_uri": "https://localhost:8080/"
        },
        "id": "4X_NYmUzYr3y",
        "outputId": "192651b3-243f-4026-dbb8-f47da9043b64"
      },
      "outputs": [
        {
          "name": "stdout",
          "output_type": "stream",
          "text": [
            "+------------------+--------------------+\n",
            "|             label|            features|\n",
            "+------------------+--------------------+\n",
            "|5.3000000000006855|[921.170000000008...|\n",
            "| 5.360000000001202|[919.180000000011...|\n",
            "| 6.467358677145455|[922.221203584900...|\n",
            "| 6.520000000000103|[922.69000000001,...|\n",
            "| 7.187360984546972|[922.928408958627...|\n",
            "| 7.220000000001187|[920.400000000010...|\n",
            "| 7.302180510020005|[922.273264482375...|\n",
            "| 7.362581098053454|[920.632354382020...|\n",
            "|7.4200000000011475|[919.500000000011...|\n",
            "|   7.5200000000001|[920.410000000007...|\n",
            "| 7.740000000000088|[922.040000000009...|\n",
            "| 7.910000000000353|[921.220000000001...|\n",
            "| 7.946408490460457|[920.300167510041...|\n",
            "|  8.03000000000041|[921.720000000002...|\n",
            "| 8.030000000001184|[919.700000000012...|\n",
            "| 8.166229190843868|[920.791124402495...|\n",
            "|  8.29967406061132|[920.567764807644...|\n",
            "| 8.560000000001134|[917.440000000011...|\n",
            "| 8.769313786440872|[922.593064124066...|\n",
            "| 8.770732377170626|[923.833996226096...|\n",
            "+------------------+--------------------+\n",
            "only showing top 20 rows\n",
            "\n"
          ]
        }
      ],
      "source": [
        "trainData.show()"
      ]
    },
    {
      "cell_type": "code",
      "execution_count": 38,
      "metadata": {
        "colab": {
          "base_uri": "https://localhost:8080/"
        },
        "id": "AyEDur8n7EKW",
        "outputId": "7c27be8c-f870-4552-9595-39a89f0004a5"
      },
      "outputs": [
        {
          "name": "stdout",
          "output_type": "stream",
          "text": [
            "+------------------+--------------------+\n",
            "|             label|            features|\n",
            "+------------------+--------------------+\n",
            "| 7.443641852120096|[921.211065935867...|\n",
            "| 8.283812812789947|[920.742823398151...|\n",
            "| 8.450000000001149|[919.710000000012...|\n",
            "| 8.620000000000013|[920.320000000003...|\n",
            "| 8.947679671017102|[920.042264327172...|\n",
            "| 9.130000000000672|[916.990000000007...|\n",
            "| 9.780000000001193|[918.090000000011...|\n",
            "|   9.8200000000003|[919.550000000001...|\n",
            "|10.230000000000052|[921.370000000007...|\n",
            "|10.376057996120188|[918.125062235076...|\n",
            "|10.600000000000296|[920.020000000009...|\n",
            "| 12.05000000000013|[923.120000000009...|\n",
            "|12.054638973604598|[926.177368159633...|\n",
            "|12.280000000000587|[925.290000000009...|\n",
            "|12.362984078201436|[920.304856584910...|\n",
            "|12.392425138555886|[920.423862879328...|\n",
            "|12.480000000000315|[926.500000000001...|\n",
            "| 12.52000000000047|[918.600000000006...|\n",
            "|12.698545982062727|[915.914435739919...|\n",
            "|12.705058755843442|[922.702458837993...|\n",
            "+------------------+--------------------+\n",
            "only showing top 20 rows\n",
            "\n"
          ]
        }
      ],
      "source": [
        "testData.show() # it always flag featuares as input and label as output"
      ]
    },
    {
      "cell_type": "code",
      "execution_count": 39,
      "metadata": {
        "id": "sEogJ5JiaItX"
      },
      "outputs": [],
      "source": [
        "lr = LinearRegression()\n"
      ]
    },
    {
      "cell_type": "code",
      "execution_count": 40,
      "metadata": {
        "id": "ewFec9G6YDO9"
      },
      "outputs": [],
      "source": [
        "model1 = lr.fit(trainData)\n"
      ]
    },
    {
      "cell_type": "code",
      "execution_count": 41,
      "metadata": {
        "colab": {
          "base_uri": "https://localhost:8080/"
        },
        "id": "_Fr9J3yTVtWS",
        "outputId": "a7a6bb6a-bdc0-4174-81ce-0c262e37faf1"
      },
      "outputs": [
        {
          "name": "stdout",
          "output_type": "stream",
          "text": [
            "Coefficients: [-2.877439307825217,-1.0280416704696347,0.004921678184754102,3.055005039071246,0.048331976932163664,-3.1196841194340448,-1.1401931763202253,0.0022852807308053197]\n",
            "Intercept: 2742.8186498150835\n"
          ]
        }
      ],
      "source": [
        "print(\"Coefficients: %s\" % str(model1.coefficients))\n",
        "print(\"Intercept: %s\" % str(model1.intercept))"
      ]
    },
    {
      "cell_type": "code",
      "execution_count": 42,
      "metadata": {
        "colab": {
          "base_uri": "https://localhost:8080/"
        },
        "id": "JSGbbU6iYANX",
        "outputId": "2367681f-09c0-4483-cd63-f4c690b6d05e"
      },
      "outputs": [
        {
          "name": "stdout",
          "output_type": "stream",
          "text": [
            "numIterations: 0\n",
            "objectiveHistory: [0.0]\n",
            "+-------------------+\n",
            "|          residuals|\n",
            "+-------------------+\n",
            "|-3.1064379456547124|\n",
            "|-2.8596078331150405|\n",
            "|0.45709316806954803|\n",
            "| -2.982479700508854|\n",
            "|-1.6695325391120104|\n",
            "| 1.6065376702677217|\n",
            "| -4.706824307400186|\n",
            "|0.42416754507627275|\n",
            "|-12.483531177828644|\n",
            "| -8.431435441528603|\n",
            "|-5.6720128625580974|\n",
            "| -9.925127170786212|\n",
            "| -6.195067201787693|\n",
            "| -5.110480325014823|\n",
            "|-15.200455887591414|\n",
            "| -9.732610992076726|\n",
            "| -9.632348034871942|\n",
            "|-10.287258196445412|\n",
            "| -2.778159714022312|\n",
            "|  4.007220463227478|\n",
            "+-------------------+\n",
            "only showing top 20 rows\n",
            "\n",
            "RMSE: 14.355334\n",
            "r2: 0.581634\n"
          ]
        }
      ],
      "source": [
        "trainingSummary = model1.summary\n",
        "print(\"numIterations: %d\" % trainingSummary.totalIterations)\n",
        "print(\"objectiveHistory: %s\" % str(trainingSummary.objectiveHistory))\n",
        "trainingSummary.residuals.show()\n",
        "print(\"RMSE: %f\" % trainingSummary.rootMeanSquaredError)\n",
        "print(\"r2: %f\" % trainingSummary.r2)"
      ]
    },
    {
      "cell_type": "code",
      "execution_count": 43,
      "metadata": {
        "id": "zCtPT2jfcP9Q"
      },
      "outputs": [],
      "source": [
        "predictions = model1.transform(testData)"
      ]
    },
    {
      "cell_type": "code",
      "execution_count": 44,
      "metadata": {
        "colab": {
          "base_uri": "https://localhost:8080/"
        },
        "id": "n0-NxyHPcSzH",
        "outputId": "53f4f469-9ebf-499b-e7e4-c926695005c4"
      },
      "outputs": [
        {
          "name": "stdout",
          "output_type": "stream",
          "text": [
            "+------------------+--------------------+-------------------+\n",
            "|             label|            features|         prediction|\n",
            "+------------------+--------------------+-------------------+\n",
            "| 7.443641852120096|[921.211065935867...|  16.15039688573961|\n",
            "| 8.283812812789947|[920.742823398151...|  9.878446866239756|\n",
            "| 8.450000000001149|[919.710000000012...|  30.74719201899643|\n",
            "| 8.620000000000013|[920.320000000003...|  18.70211606610428|\n",
            "| 8.947679671017102|[920.042264327172...|  9.891418351770426|\n",
            "| 9.130000000000672|[916.990000000007...| 26.389427856615384|\n",
            "| 9.780000000001193|[918.090000000011...| 18.300114521753585|\n",
            "|   9.8200000000003|[919.550000000001...|  25.97606505418662|\n",
            "|10.230000000000052|[921.370000000007...| 17.681002126726526|\n",
            "|10.376057996120188|[918.125062235076...| 19.674755155055664|\n",
            "|10.600000000000296|[920.020000000009...| 26.792231095288116|\n",
            "| 12.05000000000013|[923.120000000009...| 27.104140028694474|\n",
            "|12.054638973604598|[926.177368159633...| 1.4881934023883332|\n",
            "|12.280000000000587|[925.290000000009...| -4.963673625979936|\n",
            "|12.362984078201436|[920.304856584910...| 31.741528023022056|\n",
            "|12.392425138555886|[920.423862879328...| 29.699986188560615|\n",
            "|12.480000000000315|[926.500000000001...|-1.8883631391254312|\n",
            "| 12.52000000000047|[918.600000000006...|  9.137731099741814|\n",
            "|12.698545982062727|[915.914435739919...| 28.302288400145244|\n",
            "|12.705058755843442|[922.702458837993...| 25.872160398855613|\n",
            "+------------------+--------------------+-------------------+\n",
            "only showing top 20 rows\n",
            "\n"
          ]
        }
      ],
      "source": [
        "predictions.show()"
      ]
    },
    {
      "cell_type": "code",
      "execution_count": 1,
      "metadata": {
        "id": "NZpZEfWNF03K"
      },
      "outputs": [
        {
          "ename": "NameError",
          "evalue": "name 'sc' is not defined",
          "output_type": "error",
          "traceback": [
            "\u001b[1;31m---------------------------------------------------------------------------\u001b[0m",
            "\u001b[1;31mNameError\u001b[0m                                 Traceback (most recent call last)",
            "Cell \u001b[1;32mIn[1], line 1\u001b[0m\n\u001b[1;32m----> 1\u001b[0m \u001b[43msc\u001b[49m\u001b[38;5;241m.\u001b[39mstop()\n",
            "\u001b[1;31mNameError\u001b[0m: name 'sc' is not defined"
          ]
        }
      ],
      "source": [
        "sc.stop()"
      ]
    },
    {
      "cell_type": "code",
      "execution_count": null,
      "metadata": {
        "id": "7hhYSZboG22_"
      },
      "outputs": [],
      "source": []
    }
  ],
  "metadata": {
    "colab": {
      "provenance": []
    },
    "kernelspec": {
      "display_name": "Python 3",
      "language": "python",
      "name": "python3"
    },
    "language_info": {
      "codemirror_mode": {
        "name": "ipython",
        "version": 3
      },
      "file_extension": ".py",
      "mimetype": "text/x-python",
      "name": "python",
      "nbconvert_exporter": "python",
      "pygments_lexer": "ipython3",
      "version": "3.11.9"
    }
  },
  "nbformat": 4,
  "nbformat_minor": 0
}
