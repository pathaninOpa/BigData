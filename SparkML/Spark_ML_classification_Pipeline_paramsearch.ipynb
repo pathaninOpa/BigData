{
  "cells": [
    {
      "cell_type": "markdown",
      "metadata": {
        "id": "cuDOxDHdOtFW"
      },
      "source": [
        "# Import Libraries"
      ]
    },
    {
      "cell_type": "code",
      "execution_count": 19,
      "metadata": {
        "id": "e34Q4qnfz-y8"
      },
      "outputs": [],
      "source": [
        "from pyspark import SparkContext, SparkConf\n",
        "from pyspark.sql import SparkSession,SQLContext\n",
        "import os\n",
        "\n",
        "os.environ['JAVA_HOME'] = 'D:\\\\Java\\\\jdk1.8.0_202\\\\'"
      ]
    },
    {
      "cell_type": "markdown",
      "metadata": {
        "id": "xDOcBO-rkuPB"
      },
      "source": [
        "# Create Spark Context"
      ]
    },
    {
      "cell_type": "code",
      "execution_count": 20,
      "metadata": {
        "collapsed": true,
        "id": "sqOwMWgOwBGi"
      },
      "outputs": [],
      "source": [
        "spark = SparkSession \\\n",
        "    .builder \\\n",
        "    .appName(\"ML_Classifications\") \\\n",
        "    .getOrCreate()\n",
        "\n"
      ]
    },
    {
      "cell_type": "code",
      "execution_count": 21,
      "metadata": {
        "colab": {
          "base_uri": "https://localhost:8080/"
        },
        "id": "PygI-deIZT-o",
        "outputId": "0941df13-544b-4206-a990-e5b80f391509"
      },
      "outputs": [],
      "source": [
        "sc = spark.sparkContext\n",
        "sqlContext = SQLContext(sc)"
      ]
    },
    {
      "cell_type": "code",
      "execution_count": 22,
      "metadata": {
        "id": "tQRG5yVvOyty"
      },
      "outputs": [],
      "source": [
        "# Upload files (Only in colabs)"
      ]
    },
    {
      "cell_type": "code",
      "execution_count": 23,
      "metadata": {
        "colab": {
          "base_uri": "https://localhost:8080/",
          "height": 73
        },
        "id": "FWglhYsLwPL0",
        "outputId": "87d9c9ee-2c24-4536-f54c-e8d7bc2ba033"
      },
      "outputs": [],
      "source": [
        "# from google.colab import files\n",
        "\n",
        "\n",
        "# uploaded = files.upload()\n"
      ]
    },
    {
      "cell_type": "markdown",
      "metadata": {
        "id": "Ac8MHqWOkyvb"
      },
      "source": []
    },
    {
      "cell_type": "code",
      "execution_count": 24,
      "metadata": {
        "collapsed": true,
        "id": "ZWAofGUswBGl"
      },
      "outputs": [],
      "source": [
        "file=\"\\\\Users\\\\kimil\\\\OneDrive\\\\Desktop\\\\MUIC_work\\\\BigData\\\\BigData\\\\SparkML\\\\data\\\\drybeans.csv\"\n",
        "df = spark.read.csv(file,header='true',inferSchema=True)"
      ]
    },
    {
      "cell_type": "code",
      "execution_count": 25,
      "metadata": {
        "colab": {
          "base_uri": "https://localhost:8080/"
        },
        "id": "YeX5KsGXwBGm",
        "outputId": "d73baacc-b3b0-434d-b662-805726690065"
      },
      "outputs": [
        {
          "data": {
            "text/plain": [
              "['Area',\n",
              " 'Perimeter',\n",
              " 'MajorAxisLength',\n",
              " 'MinorAxisLength',\n",
              " 'AspectRation',\n",
              " 'Eccentricity',\n",
              " 'ConvexArea',\n",
              " 'EquivDiameter',\n",
              " 'Extent',\n",
              " 'Solidity',\n",
              " 'roundness',\n",
              " 'Compactness',\n",
              " 'ShapeFactor1',\n",
              " 'ShapeFactor2',\n",
              " 'ShapeFactor3',\n",
              " 'ShapeFactor4',\n",
              " 'Class']"
            ]
          },
          "execution_count": 25,
          "metadata": {},
          "output_type": "execute_result"
        }
      ],
      "source": [
        "df.columns"
      ]
    },
    {
      "cell_type": "code",
      "execution_count": 26,
      "metadata": {
        "colab": {
          "base_uri": "https://localhost:8080/"
        },
        "id": "-vjXANWwwBGm",
        "outputId": "9f1cef35-fbf5-4c7d-978a-d0f6f9047120"
      },
      "outputs": [
        {
          "name": "stdout",
          "output_type": "stream",
          "text": [
            "root\n",
            " |-- Area: integer (nullable = true)\n",
            " |-- Perimeter: double (nullable = true)\n",
            " |-- MajorAxisLength: double (nullable = true)\n",
            " |-- MinorAxisLength: double (nullable = true)\n",
            " |-- AspectRation: double (nullable = true)\n",
            " |-- Eccentricity: double (nullable = true)\n",
            " |-- ConvexArea: integer (nullable = true)\n",
            " |-- EquivDiameter: double (nullable = true)\n",
            " |-- Extent: double (nullable = true)\n",
            " |-- Solidity: double (nullable = true)\n",
            " |-- roundness: double (nullable = true)\n",
            " |-- Compactness: double (nullable = true)\n",
            " |-- ShapeFactor1: double (nullable = true)\n",
            " |-- ShapeFactor2: double (nullable = true)\n",
            " |-- ShapeFactor3: double (nullable = true)\n",
            " |-- ShapeFactor4: double (nullable = true)\n",
            " |-- Class: string (nullable = true)\n",
            "\n"
          ]
        }
      ],
      "source": [
        "df.printSchema()"
      ]
    },
    {
      "cell_type": "code",
      "execution_count": 27,
      "metadata": {
        "colab": {
          "base_uri": "https://localhost:8080/",
          "height": 614
        },
        "id": "3WM1mgbBwBGn",
        "outputId": "f8d2d6f8-5be0-4eaa-f6d0-3cb45297a7a1"
      },
      "outputs": [
        {
          "data": {
            "text/html": [
              "<div>\n",
              "<style scoped>\n",
              "    .dataframe tbody tr th:only-of-type {\n",
              "        vertical-align: middle;\n",
              "    }\n",
              "\n",
              "    .dataframe tbody tr th {\n",
              "        vertical-align: top;\n",
              "    }\n",
              "\n",
              "    .dataframe thead th {\n",
              "        text-align: right;\n",
              "    }\n",
              "</style>\n",
              "<table border=\"1\" class=\"dataframe\">\n",
              "  <thead>\n",
              "    <tr style=\"text-align: right;\">\n",
              "      <th></th>\n",
              "      <th>0</th>\n",
              "      <th>1</th>\n",
              "      <th>2</th>\n",
              "      <th>3</th>\n",
              "      <th>4</th>\n",
              "    </tr>\n",
              "  </thead>\n",
              "  <tbody>\n",
              "    <tr>\n",
              "      <th>summary</th>\n",
              "      <td>count</td>\n",
              "      <td>mean</td>\n",
              "      <td>stddev</td>\n",
              "      <td>min</td>\n",
              "      <td>max</td>\n",
              "    </tr>\n",
              "    <tr>\n",
              "      <th>Area</th>\n",
              "      <td>13611</td>\n",
              "      <td>53048.284549261625</td>\n",
              "      <td>29324.09571688207</td>\n",
              "      <td>20420</td>\n",
              "      <td>254616</td>\n",
              "    </tr>\n",
              "    <tr>\n",
              "      <th>Perimeter</th>\n",
              "      <td>13611</td>\n",
              "      <td>855.2834585996654</td>\n",
              "      <td>214.28969589196151</td>\n",
              "      <td>524.736</td>\n",
              "      <td>1985.37</td>\n",
              "    </tr>\n",
              "    <tr>\n",
              "      <th>MajorAxisLength</th>\n",
              "      <td>13611</td>\n",
              "      <td>320.1418673032194</td>\n",
              "      <td>85.6941859593335</td>\n",
              "      <td>183.601165</td>\n",
              "      <td>738.8601535</td>\n",
              "    </tr>\n",
              "    <tr>\n",
              "      <th>MinorAxisLength</th>\n",
              "      <td>13611</td>\n",
              "      <td>202.2707140828817</td>\n",
              "      <td>44.97009129411471</td>\n",
              "      <td>122.5126535</td>\n",
              "      <td>460.1984968</td>\n",
              "    </tr>\n",
              "    <tr>\n",
              "      <th>AspectRation</th>\n",
              "      <td>13611</td>\n",
              "      <td>1.5832419790188144</td>\n",
              "      <td>0.24667845568580432</td>\n",
              "      <td>1.024867596</td>\n",
              "      <td>2.430306447</td>\n",
              "    </tr>\n",
              "    <tr>\n",
              "      <th>Eccentricity</th>\n",
              "      <td>13611</td>\n",
              "      <td>0.750894929372346</td>\n",
              "      <td>0.09200176320620888</td>\n",
              "      <td>0.218951263</td>\n",
              "      <td>0.911422968</td>\n",
              "    </tr>\n",
              "    <tr>\n",
              "      <th>ConvexArea</th>\n",
              "      <td>13611</td>\n",
              "      <td>53768.20020571596</td>\n",
              "      <td>29774.915817000012</td>\n",
              "      <td>20684</td>\n",
              "      <td>263261</td>\n",
              "    </tr>\n",
              "    <tr>\n",
              "      <th>EquivDiameter</th>\n",
              "      <td>13611</td>\n",
              "      <td>253.06421992490445</td>\n",
              "      <td>59.17712014871156</td>\n",
              "      <td>161.2437642</td>\n",
              "      <td>569.3743583</td>\n",
              "    </tr>\n",
              "    <tr>\n",
              "      <th>Extent</th>\n",
              "      <td>13611</td>\n",
              "      <td>0.7497327873564055</td>\n",
              "      <td>0.049086366843964224</td>\n",
              "      <td>0.555314717</td>\n",
              "      <td>0.866194641</td>\n",
              "    </tr>\n",
              "    <tr>\n",
              "      <th>Solidity</th>\n",
              "      <td>13611</td>\n",
              "      <td>0.9871428435655719</td>\n",
              "      <td>0.004660379169838</td>\n",
              "      <td>0.919246157</td>\n",
              "      <td>0.9946775</td>\n",
              "    </tr>\n",
              "    <tr>\n",
              "      <th>roundness</th>\n",
              "      <td>13611</td>\n",
              "      <td>0.873281831305413</td>\n",
              "      <td>0.05951988794941863</td>\n",
              "      <td>0.489618256</td>\n",
              "      <td>0.9906854</td>\n",
              "    </tr>\n",
              "    <tr>\n",
              "      <th>Compactness</th>\n",
              "      <td>13611</td>\n",
              "      <td>0.7998636818695875</td>\n",
              "      <td>0.06171346311682412</td>\n",
              "      <td>0.640576759</td>\n",
              "      <td>0.987302969</td>\n",
              "    </tr>\n",
              "    <tr>\n",
              "      <th>ShapeFactor1</th>\n",
              "      <td>13611</td>\n",
              "      <td>0.006563608507383666</td>\n",
              "      <td>0.0011279982248070671</td>\n",
              "      <td>0.002778013</td>\n",
              "      <td>0.010451169</td>\n",
              "    </tr>\n",
              "    <tr>\n",
              "      <th>ShapeFactor2</th>\n",
              "      <td>13611</td>\n",
              "      <td>0.001715947338917041</td>\n",
              "      <td>5.958748528937661E-4</td>\n",
              "      <td>5.64169E-4</td>\n",
              "      <td>0.003664972</td>\n",
              "    </tr>\n",
              "    <tr>\n",
              "      <th>ShapeFactor3</th>\n",
              "      <td>13611</td>\n",
              "      <td>0.6435901812970417</td>\n",
              "      <td>0.098996150476599</td>\n",
              "      <td>0.410338584</td>\n",
              "      <td>0.974767153</td>\n",
              "    </tr>\n",
              "    <tr>\n",
              "      <th>ShapeFactor4</th>\n",
              "      <td>13611</td>\n",
              "      <td>0.9950633118301326</td>\n",
              "      <td>0.004366457746633824</td>\n",
              "      <td>0.947687403</td>\n",
              "      <td>0.99973253</td>\n",
              "    </tr>\n",
              "    <tr>\n",
              "      <th>Class</th>\n",
              "      <td>13611</td>\n",
              "      <td>None</td>\n",
              "      <td>None</td>\n",
              "      <td>BARBUNYA</td>\n",
              "      <td>SIRA</td>\n",
              "    </tr>\n",
              "  </tbody>\n",
              "</table>\n",
              "</div>"
            ],
            "text/plain": [
              "                     0                     1                      2  \\\n",
              "summary          count                  mean                 stddev   \n",
              "Area             13611    53048.284549261625      29324.09571688207   \n",
              "Perimeter        13611     855.2834585996654     214.28969589196151   \n",
              "MajorAxisLength  13611     320.1418673032194       85.6941859593335   \n",
              "MinorAxisLength  13611     202.2707140828817      44.97009129411471   \n",
              "AspectRation     13611    1.5832419790188144    0.24667845568580432   \n",
              "Eccentricity     13611     0.750894929372346    0.09200176320620888   \n",
              "ConvexArea       13611     53768.20020571596     29774.915817000012   \n",
              "EquivDiameter    13611    253.06421992490445      59.17712014871156   \n",
              "Extent           13611    0.7497327873564055   0.049086366843964224   \n",
              "Solidity         13611    0.9871428435655719      0.004660379169838   \n",
              "roundness        13611     0.873281831305413    0.05951988794941863   \n",
              "Compactness      13611    0.7998636818695875    0.06171346311682412   \n",
              "ShapeFactor1     13611  0.006563608507383666  0.0011279982248070671   \n",
              "ShapeFactor2     13611  0.001715947338917041   5.958748528937661E-4   \n",
              "ShapeFactor3     13611    0.6435901812970417      0.098996150476599   \n",
              "ShapeFactor4     13611    0.9950633118301326   0.004366457746633824   \n",
              "Class            13611                  None                   None   \n",
              "\n",
              "                           3            4  \n",
              "summary                  min          max  \n",
              "Area                   20420       254616  \n",
              "Perimeter            524.736      1985.37  \n",
              "MajorAxisLength   183.601165  738.8601535  \n",
              "MinorAxisLength  122.5126535  460.1984968  \n",
              "AspectRation     1.024867596  2.430306447  \n",
              "Eccentricity     0.218951263  0.911422968  \n",
              "ConvexArea             20684       263261  \n",
              "EquivDiameter    161.2437642  569.3743583  \n",
              "Extent           0.555314717  0.866194641  \n",
              "Solidity         0.919246157    0.9946775  \n",
              "roundness        0.489618256    0.9906854  \n",
              "Compactness      0.640576759  0.987302969  \n",
              "ShapeFactor1     0.002778013  0.010451169  \n",
              "ShapeFactor2      5.64169E-4  0.003664972  \n",
              "ShapeFactor3     0.410338584  0.974767153  \n",
              "ShapeFactor4     0.947687403   0.99973253  \n",
              "Class               BARBUNYA         SIRA  "
            ]
          },
          "execution_count": 27,
          "metadata": {},
          "output_type": "execute_result"
        }
      ],
      "source": [
        "df.describe().toPandas().transpose()"
      ]
    },
    {
      "cell_type": "code",
      "execution_count": 28,
      "metadata": {
        "colab": {
          "base_uri": "https://localhost:8080/"
        },
        "id": "mf3GVJenwBGn",
        "outputId": "60e5f721-1061-47d3-8cc3-c767eee76f8e"
      },
      "outputs": [
        {
          "name": "stdout",
          "output_type": "stream",
          "text": [
            "+-----+---------+-----------+-----------+-----------+-----+\n",
            "| Area|Perimeter|   Solidity|  roundness|Compactness|Class|\n",
            "+-----+---------+-----------+-----------+-----------+-----+\n",
            "|28395|  610.291|0.988855999|0.958027126|0.913357755|SEKER|\n",
            "|28734|  638.018|0.984985603|0.887033637|0.953860842|SEKER|\n",
            "|29380|   624.11|0.989558774|0.947849473|0.908774239|SEKER|\n",
            "|30008|  645.884|0.976695743|0.903936374|0.928328835|SEKER|\n",
            "|30140|  620.134| 0.99089325|0.984877069|0.970515523|SEKER|\n",
            "+-----+---------+-----------+-----------+-----------+-----+\n",
            "only showing top 5 rows\n",
            "\n"
          ]
        }
      ],
      "source": [
        "df.select([\"Area\",\"Perimeter\",\"Solidity\",\"roundness\",\"Compactness\",\"Class\"]).show(5)"
      ]
    },
    {
      "cell_type": "code",
      "execution_count": 29,
      "metadata": {
        "colab": {
          "base_uri": "https://localhost:8080/"
        },
        "id": "lfonE2o8wBGo",
        "outputId": "16173f27-004d-44ca-e403-3a00b5eea9e6"
      },
      "outputs": [
        {
          "name": "stdout",
          "output_type": "stream",
          "text": [
            "+--------+-----+\n",
            "|   Class|count|\n",
            "+--------+-----+\n",
            "|  BOMBAY|  522|\n",
            "|BARBUNYA| 1322|\n",
            "|    CALI| 1630|\n",
            "|   HOROZ| 1928|\n",
            "|   SEKER| 2027|\n",
            "|    SIRA| 2636|\n",
            "|DERMASON| 3546|\n",
            "+--------+-----+\n",
            "\n"
          ]
        }
      ],
      "source": [
        "df.groupBy('Class').count().orderBy('count').show()"
      ]
    },
    {
      "cell_type": "code",
      "execution_count": 30,
      "metadata": {
        "collapsed": true,
        "id": "5-RpzxWlwBGo"
      },
      "outputs": [],
      "source": [
        "# Convert Class column from string to numerical values\n",
        "\n"
      ]
    },
    {
      "cell_type": "markdown",
      "metadata": {
        "id": "HmX1U1HX2i3n"
      },
      "source": [
        "#  Classification"
      ]
    },
    {
      "cell_type": "code",
      "execution_count": 55,
      "metadata": {
        "id": "ElV2ZP113G1R"
      },
      "outputs": [],
      "source": [
        "from pyspark.sql import DataFrameNaFunctions\n",
        "from pyspark.ml.feature import StringIndexer\n",
        "from pyspark.ml.feature import VectorAssembler, StringIndexer, VectorIndexer\n",
        "from pyspark.ml.classification import LogisticRegression,DecisionTreeClassifier\n",
        "from pyspark.ml.evaluation import BinaryClassificationEvaluator"
      ]
    },
    {
      "cell_type": "code",
      "execution_count": 56,
      "metadata": {
        "id": "ktPd8SpG76hy"
      },
      "outputs": [],
      "source": [
        "featureColumns =df.columns[:-2]"
      ]
    },
    {
      "cell_type": "code",
      "execution_count": null,
      "metadata": {
        "id": "FEm523ct2sab"
      },
      "outputs": [],
      "source": [
        "indexer = StringIndexer(inputCol=\"Class\", outputCol=\"label\")\n",
        "assembler = VectorAssembler(inputCols=featureColumns, outputCol=\"features\")\n"
      ]
    },
    {
      "cell_type": "code",
      "execution_count": null,
      "metadata": {},
      "outputs": [],
      "source": [
        "assembled = assembler.transform(df)"
      ]
    },
    {
      "cell_type": "code",
      "execution_count": null,
      "metadata": {},
      "outputs": [],
      "source": [
        "from pyspark.ml.feature import StandardScaler\n",
        "\n",
        "scaler = StandardScaler(inputCol=\"features\", outputCol=\"features_std\", withStd=True, withMean=True)\n",
        "scalerModel = scaler.fit(assembled)\n",
        "scaledData = scalerModel.transform(assembled)"
      ]
    },
    {
      "cell_type": "code",
      "execution_count": 34,
      "metadata": {
        "id": "BNpJj2Ko2wmQ"
      },
      "outputs": [],
      "source": [
        "from pyspark.ml.classification import LogisticRegression\n",
        "lr = LogisticRegression(featuresCol=\"features\", labelCol=\"label\")\n"
      ]
    },
    {
      "cell_type": "code",
      "execution_count": 35,
      "metadata": {
        "id": "HIIzZ_kH2yU7"
      },
      "outputs": [],
      "source": [
        "from pyspark.ml import Pipeline\n",
        "\n",
        "pipeline = Pipeline(stages=[indexer,assembler,lr])"
      ]
    },
    {
      "cell_type": "code",
      "execution_count": 36,
      "metadata": {
        "id": "wZObekd0d-zW"
      },
      "outputs": [],
      "source": [
        "from pyspark.ml.tuning import CrossValidator, ParamGridBuilder\n",
        "\n",
        "paramGrid = ParamGridBuilder() \\\n",
        "    .addGrid(lr.fitIntercept, [False, True]) \\\n",
        "    .addGrid(lr.maxIter, [5, 10,20]) \\\n",
        "    .build()"
      ]
    },
    {
      "cell_type": "code",
      "execution_count": 37,
      "metadata": {
        "id": "8M1eyXTteD1O"
      },
      "outputs": [],
      "source": [
        "from pyspark.ml.evaluation import MulticlassClassificationEvaluator\n",
        "crossval = CrossValidator(estimator=pipeline,\n",
        "                          estimatorParamMaps=paramGrid,\n",
        "                          evaluator=MulticlassClassificationEvaluator(),\n",
        "                          numFolds=3)  # use 3+ folds in practice\n",
        "\n",
        "# Run cross-validation, and choose the best set of parameters.\n",
        "cvModel = crossval.fit(df)"
      ]
    },
    {
      "cell_type": "code",
      "execution_count": 38,
      "metadata": {
        "colab": {
          "base_uri": "https://localhost:8080/"
        },
        "id": "J4UxIoMJiTQv",
        "outputId": "fad09e99-7543-4fc5-f422-2a707c2ba7b5"
      },
      "outputs": [
        {
          "data": {
            "text/plain": [
              "[np.float64(0.10771821621773305),\n",
              " np.float64(0.11024982232517087),\n",
              " np.float64(0.8288508530832397),\n",
              " np.float64(0.8579349427695883),\n",
              " np.float64(0.9138862962059907),\n",
              " np.float64(0.9145236000080829)]"
            ]
          },
          "execution_count": 38,
          "metadata": {},
          "output_type": "execute_result"
        }
      ],
      "source": [
        "cvModel.avgMetrics\n"
      ]
    },
    {
      "cell_type": "code",
      "execution_count": 39,
      "metadata": {
        "id": "7maTakFpek1N"
      },
      "outputs": [],
      "source": [
        "\n",
        "(trainin, testData) = df.randomSplit([0.8,0.2], seed = 13234 )"
      ]
    },
    {
      "cell_type": "code",
      "execution_count": 40,
      "metadata": {
        "id": "QqQTRppW2zo8"
      },
      "outputs": [],
      "source": [
        "predictions = cvModel.transform(testData)"
      ]
    },
    {
      "cell_type": "code",
      "execution_count": 41,
      "metadata": {
        "colab": {
          "base_uri": "https://localhost:8080/"
        },
        "id": "TXp0ksB0TQOY",
        "outputId": "4a0f534e-b24d-4bc1-c372-e8f64419cd3a"
      },
      "outputs": [
        {
          "name": "stdout",
          "output_type": "stream",
          "text": [
            "+-----+---------+---------------+---------------+------------+------------+----------+-------------+-----------+-----------+-----------+-----------+------------+------------+------------+------------+--------+-----+--------------------+--------------------+--------------------+----------+\n",
            "| Area|Perimeter|MajorAxisLength|MinorAxisLength|AspectRation|Eccentricity|ConvexArea|EquivDiameter|     Extent|   Solidity|  roundness|Compactness|ShapeFactor1|ShapeFactor2|ShapeFactor3|ShapeFactor4|   Class|label|            features|       rawPrediction|         probability|prediction|\n",
            "+-----+---------+---------------+---------------+------------+------------+----------+-------------+-----------+-----------+-----------+-----------+------------+------------+------------+------------+--------+-----+--------------------+--------------------+--------------------+----------+\n",
            "|21397|  535.436|    192.5302973|    141.6521869| 1.359176314| 0.677264398|     21731|  165.0560709|0.772650128|0.984630252|0.937880736|0.857299205| 0.008998004| 0.002998166| 0.734961927| 0.998942844|DERMASON|  0.0|[21397.0,535.436,...|[24.3548276930614...|[0.99999978604877...|       0.0|\n",
            "|21706|  546.187|    199.3233899|    138.8673301| 1.435351208| 0.717368823|     22006|  166.2436091|0.791034985|0.986367354|0.914338368|0.834039644| 0.009182871| 0.002740975| 0.695622127|  0.99846206|DERMASON|  0.0|[21706.0,546.187,...|[23.8258393081091...|[0.99999965576395...|       0.0|\n",
            "|21830|  543.295|    201.3477434|    138.5355551|  1.45340121| 0.725671568|     22029|  166.7177833|0.731029402|0.990966453|0.929377563|0.828009197| 0.009223442|  0.00267432|  0.68559923| 0.996450751|DERMASON|  0.0|[21830.0,543.295,...|[24.6065439278903...|[0.99999981773920...|       0.0|\n",
            "|21961|  551.696|    204.7763134|    136.7099579|  1.49788879| 0.744514487|     22267|  167.2172648|0.780419332|0.986257691|0.906697265|0.816584995| 0.009324544| 0.002557484| 0.666811053| 0.998808802|DERMASON|  0.0|[21961.0,551.696,...|[23.8494655004921...|[0.99999950918119...|       0.0|\n",
            "|22158|  542.436|    198.7751249|    142.1554953|  1.39829364| 0.698963474|     22424|  167.9655972|0.743656867| 0.98813771|0.946331753|0.845003102| 0.008970806| 0.002821269| 0.714030242| 0.998423947|DERMASON|  0.0|[22158.0,542.436,...|[24.0218520546834...|[0.99999974983603...|       0.0|\n",
            "|22162|   568.07|      219.33739|    129.5762069| 1.692728899| 0.806845832|     22502|  167.9807572|0.727601037|0.984890232|0.863008564|0.765855549| 0.009897003|  0.00210025| 0.586534722| 0.992844273|DERMASON|  0.0|[22162.0,568.07,2...|[24.4082920599468...|[0.99999877504810...|       0.0|\n",
            "|22461|  544.584|    192.8013032|    148.5411365|  1.29796572| 0.637516899|     22699|  169.1101222| 0.77473096|0.989514957|0.951720002|0.877121261| 0.008583825| 0.003134001| 0.769341707| 0.998579162|DERMASON|  0.0|[22461.0,544.584,...|[22.7044814231760...|[0.99998874305469...|       0.0|\n",
            "|22687|  553.435|    204.6909196|    141.2405819| 1.449235884| 0.723791449|     22989|   169.958776|0.721734428|0.986863282|0.930794253| 0.83031908| 0.009022388| 0.002645339| 0.689429774| 0.999146368|DERMASON|  0.0|[22687.0,553.435,...|[23.4824999988585...|[0.99999953339581...|       0.0|\n",
            "|22721|    553.6|    201.1671865|    144.0509676| 1.396500072| 0.698022458|     23016|  170.0860832|0.776706663|0.987182829|0.931633599|0.845496157|   0.0088538| 0.002790975| 0.714863752| 0.998307281|DERMASON|  0.0|[22721.0,553.6,20...|[22.6440671849137...|[0.99999914424307...|       0.0|\n",
            "|22777|  563.861|     204.878906|    141.8015588| 1.444828306| 0.721778845|     23071|  170.2955581|0.772049353|0.987256729| 0.90024822|0.831201032| 0.008994991| 0.002648529| 0.690895155| 0.998224877|DERMASON|  0.0|[22777.0,563.861,...|[22.2233773113014...|[0.99999835859942...|       0.0|\n",
            "|22931|  559.526|     207.806204|    140.8498712|  1.47537376| 0.735251534|     23207|    170.87029|0.806861365|0.988107037|0.920433282|0.822257886| 0.009062239| 0.002555333| 0.676108031| 0.997512047|DERMASON|  0.0|[22931.0,559.526,...|[22.4979797414027...|[0.99999860828675...|       0.0|\n",
            "|23369|  567.724|    215.8616876|    138.1170076| 1.562889982| 0.768507896|     23658|   172.494449| 0.79131112|0.987784259|  0.9111198|0.799097102| 0.009237096| 0.002323344| 0.638556178| 0.997993054|DERMASON|  0.0|[23369.0,567.724,...|[22.4813299872630...|[0.99999771710537...|       0.0|\n",
            "|23393|  566.451|    208.3896394|    143.7053079| 1.450117901| 0.724191329|     23702|  172.5830023|0.715119834|0.986963125|  0.9161595|0.828174581| 0.008908205| 0.002584982| 0.685873136| 0.994596913|DERMASON|  0.0|[23393.0,566.451,...|[22.2479949721277...|[0.99999845795825...|       0.0|\n",
            "|23500|  570.486|    209.9116344|     143.070924| 1.467185843| 0.731746479|     23931|  172.9772508|0.734834271|0.981989888|0.907376953|0.824047944|  0.00893241| 0.002540729| 0.679055015| 0.996299905|DERMASON|  0.0|[23500.0,570.486,...|[21.8701174915726...|[0.99999759213698...|       0.0|\n",
            "|23532|  567.875|    209.9588895|    143.0493175| 1.467737793| 0.731985132|     23855|  173.0949825|0.709864253|0.986459862|0.916987053|0.824423214| 0.008922271| 0.002542471| 0.679673636| 0.997582682|DERMASON|  0.0|[23532.0,567.875,...|[22.2608070269356...|[0.99999837251692...|       0.0|\n",
            "|23553|   577.69|    216.3088938|    138.9570923| 1.556659615| 0.766368516|     23850|  173.1722004|0.695106835| 0.98754717|0.886883135|0.800578272| 0.009183921| 0.002327143| 0.640925569|  0.99770295|DERMASON|  0.0|[23553.0,577.69,2...|[22.2982403044934...|[0.99999719001404...|       0.0|\n",
            "|23562|  612.084|    246.2504516|    122.5126535| 2.010000148| 0.867456864|     23959|  173.2052833|0.698257468|0.983430026|0.790314521|0.703370419| 0.010451169| 0.001577906| 0.494729946| 0.994407265|DERMASON|  0.0|[23562.0,612.084,...|[23.2685092451619...|[0.99001072255815...|       0.0|\n",
            "|23590|  561.266|     199.563129|    150.6856359| 1.324367302| 0.655635504|     23907|  173.3081673|0.750270339|0.986740285|0.941023211|0.868437813| 0.008459649| 0.002968158| 0.754184235|  0.99881694|DERMASON|  0.0|[23590.0,561.266,...|[21.3373009908818...|[0.99998882575181...|       0.0|\n",
            "|23662|  575.093|    207.9470169|    145.1253317|  1.43287884| 0.716199395|     24014|  173.5724463|0.717813372|0.985341884|0.899052703|0.834695534| 0.008788227| 0.002631439| 0.696716634| 0.998310522|DERMASON|  0.0|[23662.0,575.093,...|[21.3221179780597...|[0.99999653856737...|       0.0|\n",
            "|23684|  571.022|      207.23373|    145.8234678|  1.42112743| 0.710530241|     23967|   173.653118|0.768162948|0.988192097|0.912765538|0.837957788| 0.008749946| 0.002661177| 0.702173254| 0.997877672|DERMASON|  0.0|[23684.0,571.022,...|[21.1799280995331...|[0.99999636054886...|       0.0|\n",
            "+-----+---------+---------------+---------------+------------+------------+----------+-------------+-----------+-----------+-----------+-----------+------------+------------+------------+------------+--------+-----+--------------------+--------------------+--------------------+----------+\n",
            "only showing top 20 rows\n",
            "\n"
          ]
        }
      ],
      "source": [
        "predictions.show()"
      ]
    },
    {
      "cell_type": "code",
      "execution_count": 42,
      "metadata": {
        "colab": {
          "base_uri": "https://localhost:8080/"
        },
        "id": "5W4Z7VUsEAr8",
        "outputId": "ce04ed7e-1d10-477d-cd08-76503f822f5b"
      },
      "outputs": [
        {
          "name": "stdout",
          "output_type": "stream",
          "text": [
            "+-----------------------------------------------------------------------------------------------------------------------------------------------------------+----------+-----+\n",
            "|probability                                                                                                                                                |prediction|label|\n",
            "+-----------------------------------------------------------------------------------------------------------------------------------------------------------+----------+-----+\n",
            "|[0.999999786048775,1.0073424145441893E-7,1.1321489990514008E-7,2.0830094026652968E-12,6.254532124028324E-18,6.15373156770763E-16,9.970643899322056E-17]    |0.0       |0.0  |\n",
            "|[0.9999996557639533,3.2793932425477326E-7,1.6231598494916765E-8,6.512276531821016E-11,1.7885717668995145E-17,1.1320598855425688E-15,5.2689240728330136E-17]|0.0       |0.0  |\n",
            "|[0.9999998177392065,1.699893723229929E-7,1.2237036657813397E-8,3.4384248104377254E-11,6.671245948125081E-18,2.1247358985709674E-16,1.5439254568926785E-17] |0.0       |0.0  |\n",
            "|[0.9999995091811942,4.878265881184581E-7,2.3759152346335997E-9,6.163017372177115E-10,3.1487085263300954E-17,5.785447712951017E-16,2.4087994549438702E-17]  |0.0       |0.0  |\n",
            "|[0.9999997498360349,1.804584362483383E-7,6.969835191724722E-8,7.176521056034862E-12,2.034710104786922E-17,5.355455718999421E-16,9.534154039080466E-17]     |0.0       |0.0  |\n",
            "|[0.9999987750481091,8.155016785326981E-7,1.0478555974991374E-11,4.094397339104919E-7,2.2210146660626777E-17,7.264886402699674E-17,1.1106939094320412E-18]  |0.0       |0.0  |\n",
            "|[0.9999887430546976,2.3842872123529635E-7,1.1018516252451892E-5,3.083380999913239E-13,3.158735424811E-17,1.8159963091611975E-14,2.0408759146114896E-15]    |0.0       |0.0  |\n",
            "|[0.9999995333958197,4.4469669938767914E-7,2.1815606762619495E-8,9.187336946841408E-11,5.83714080328155E-17,8.858826844628394E-16,8.874836460510418E-17]    |0.0       |0.0  |\n",
            "|[0.9999991442430756,6.651712257323749E-7,1.9055890362290832E-7,2.6787467443505532E-11,1.2118576025251364E-16,6.993893913749929E-15,5.030125241856848E-16]  |0.0       |0.0  |\n",
            "|[0.9999983585994233,1.5664923325226842E-6,7.457615243255148E-8,3.32071880351032E-10,1.2583856927368852E-16,1.9329787418603125E-14,2.9158392395297567E-16]  |0.0       |0.0  |\n",
            "|[0.9999986082867547,1.376458871722425E-6,1.4688940923547682E-8,5.654275710693228E-10,3.6083183618776977E-16,4.402115739605736E-15,2.216461407103283E-16]   |0.0       |0.0  |\n",
            "|[0.999997717105374,2.270077980051307E-6,1.2500903465899896E-9,1.1566553098628315E-8,8.373553806525543E-16,1.8346262601034235E-15,8.968660444007727E-17]    |0.0       |0.0  |\n",
            "|[0.9999984579582555,1.473285536811761E-6,6.842247262653213E-8,3.3372556590989897E-10,2.3165915466335435E-16,8.856092015311353E-15,3.3555141732197317E-16]  |0.0       |0.0  |\n",
            "|[0.9999975921369881,2.3830026446345807E-6,2.3400163096085277E-8,1.460191206671106E-9,6.643126155556568E-16,1.1717582649785287E-14,5.1467212426362E-16]     |0.0       |0.0  |\n",
            "|[0.999998372516928,1.5876315920251197E-6,3.927924937882304E-8,5.722233022684119E-10,3.0811898414653425E-16,6.570315010517209E-15,2.9308465225709954E-16]   |0.0       |0.0  |\n",
            "|[0.9999971900140455,2.7909566699139616E-6,4.662793184887783E-9,1.4366485687287728E-8,2.2648985442125223E-16,5.644487808568019E-15,6.816329115511669E-17]   |0.0       |0.0  |\n",
            "|[0.9900107225581538,4.989336113390477E-6,7.944556427694478E-14,0.00998428810565307,1.1344975994601972E-16,1.372919981901966E-16,2.794247632529935E-19]     |0.0       |0.0  |\n",
            "|[0.9999888257518159,1.1037941175273655E-6,1.0070450139370048E-5,3.810887362602834E-12,3.7013836564866566E-16,1.077334749594449E-13,8.046156700724127E-15]  |0.0       |0.0  |\n",
            "|[0.9999965385673757,3.1829031989401337E-6,2.7803917882651617E-7,4.901667632046274E-10,4.0485452444115485E-16,7.828506563537807E-14,1.0994931123512036E-15] |0.0       |0.0  |\n",
            "|[0.9999963605488689,3.20335226763113E-6,4.358636005260928E-7,2.3516883133292146E-10,7.428504514006776E-16,9.174013795063505E-14,1.8277355867460667E-15]    |0.0       |0.0  |\n",
            "+-----------------------------------------------------------------------------------------------------------------------------------------------------------+----------+-----+\n",
            "only showing top 20 rows\n",
            "\n"
          ]
        }
      ],
      "source": [
        "predictions.select(\"probability\",\"prediction\", \"label\").show(truncate=False)"
      ]
    },
    {
      "cell_type": "code",
      "execution_count": 43,
      "metadata": {
        "colab": {
          "base_uri": "https://localhost:8080/"
        },
        "id": "RBUeH1rD21JU",
        "outputId": "5e26811b-041b-4157-cfb6-a1d342e84a8e"
      },
      "outputs": [
        {
          "name": "stdout",
          "output_type": "stream",
          "text": [
            "+--------------------+--------------------+----------+-----+\n",
            "|       rawprediction|         probability|prediction|label|\n",
            "+--------------------+--------------------+----------+-----+\n",
            "|[24.3548276930614...|[0.99999978604877...|       0.0|  0.0|\n",
            "|[23.8258393081091...|[0.99999965576395...|       0.0|  0.0|\n",
            "|[24.6065439278903...|[0.99999981773920...|       0.0|  0.0|\n",
            "|[23.8494655004921...|[0.99999950918119...|       0.0|  0.0|\n",
            "|[24.0218520546834...|[0.99999974983603...|       0.0|  0.0|\n",
            "|[24.4082920599468...|[0.99999877504810...|       0.0|  0.0|\n",
            "|[22.7044814231760...|[0.99998874305469...|       0.0|  0.0|\n",
            "|[23.4824999988585...|[0.99999953339581...|       0.0|  0.0|\n",
            "|[22.6440671849137...|[0.99999914424307...|       0.0|  0.0|\n",
            "|[22.2233773113014...|[0.99999835859942...|       0.0|  0.0|\n",
            "|[22.4979797414027...|[0.99999860828675...|       0.0|  0.0|\n",
            "|[22.4813299872630...|[0.99999771710537...|       0.0|  0.0|\n",
            "|[22.2479949721277...|[0.99999845795825...|       0.0|  0.0|\n",
            "|[21.8701174915726...|[0.99999759213698...|       0.0|  0.0|\n",
            "|[22.2608070269356...|[0.99999837251692...|       0.0|  0.0|\n",
            "|[22.2982403044934...|[0.99999719001404...|       0.0|  0.0|\n",
            "|[23.2685092451619...|[0.99001072255815...|       0.0|  0.0|\n",
            "|[21.3373009908818...|[0.99998882575181...|       0.0|  0.0|\n",
            "|[21.3221179780597...|[0.99999653856737...|       0.0|  0.0|\n",
            "|[21.1799280995331...|[0.99999636054886...|       0.0|  0.0|\n",
            "+--------------------+--------------------+----------+-----+\n",
            "only showing top 20 rows\n",
            "\n"
          ]
        }
      ],
      "source": [
        "prediction_save=predictions.select(\"rawprediction\",\"probability\",\"prediction\", \"label\").show()"
      ]
    },
    {
      "cell_type": "code",
      "execution_count": 44,
      "metadata": {
        "id": "lb-NXq5BUN2p"
      },
      "outputs": [],
      "source": [
        "predictions.select(\"prediction\", \"label\").write.save(path=\"predictions\",\n",
        "                                                     format=\"com.databricks.spark.csv\",\n",
        "                                                     header='true')"
      ]
    },
    {
      "cell_type": "markdown",
      "metadata": {
        "id": "FQd4thPrPJmx"
      },
      "source": [
        "# Evaluations"
      ]
    },
    {
      "cell_type": "code",
      "execution_count": 46,
      "metadata": {
        "id": "yZvA8ltr8meX"
      },
      "outputs": [],
      "source": [
        "from pyspark.ml.evaluation import MulticlassClassificationEvaluator\n",
        "from pyspark.mllib.evaluation import MulticlassMetrics\n",
        "\n",
        "def evaluate(result):\n",
        "    predictionAndLabels = result.select(\"prediction\", \"label\")\n",
        "    metrics = [\"f1\",\"precisionByLabel\",\"recallByLabel\",\"weightedPrecision\",\"weightedRecall\",\"accuracy\"]\n",
        "    for m in metrics:\n",
        "        evaluator = MulticlassClassificationEvaluator(metricName=m)\n",
        "        print(str(m) + \": \" + str(evaluator.evaluate(predictionAndLabels)))\n",
        "evaluate(predictions)"
      ]
    },
    {
      "cell_type": "code",
      "execution_count": 47,
      "metadata": {
        "id": "LruJRrvWp2-u"
      },
      "outputs": [],
      "source": [
        "def evaluate(result):\n",
        "    predictionAndLabels = result.select(\"prediction\", \"label\")\n",
        "    metrics = [\"f1\",\"precisionByLabel\",\"recallByLabel\",\"weightedPrecision\",\"weightedRecall\",\"accuracy\"]\n",
        "    for m in metrics:\n",
        "        evaluator = MulticlassClassificationEvaluator(metricName=m)\n",
        "        print(str(m) + \": \" + str(evaluator.evaluate(predictionAndLabels)))"
      ]
    },
    {
      "cell_type": "code",
      "execution_count": 48,
      "metadata": {
        "colab": {
          "base_uri": "https://localhost:8080/"
        },
        "id": "04ab1wtB8mMq",
        "outputId": "c4328e0e-3295-43dd-a95a-6e47afa1ec24"
      },
      "outputs": [
        {
          "name": "stdout",
          "output_type": "stream",
          "text": [
            "f1: 0.9209945149904254\n",
            "precisionByLabel: 0.925561797752809\n",
            "recallByLabel: 0.9052197802197802\n",
            "weightedPrecision: 0.9216211770958438\n",
            "weightedRecall: 0.9208711433756805\n",
            "accuracy: 0.9208711433756805\n"
          ]
        }
      ],
      "source": [
        "evaluate(predictions)"
      ]
    },
    {
      "cell_type": "code",
      "execution_count": 49,
      "metadata": {
        "colab": {
          "base_uri": "https://localhost:8080/"
        },
        "id": "VPPyeqhG8vhX",
        "outputId": "a7483191-a130-4ab2-9a3e-77691c943f13"
      },
      "outputs": [
        {
          "name": "stdout",
          "output_type": "stream",
          "text": [
            "Accuracy = 0.9208711433756805\n"
          ]
        }
      ],
      "source": [
        "# Evaluate model performance\n",
        "evaluator = MulticlassClassificationEvaluator(labelCol=\"label\", predictionCol=\"prediction\", metricName=\"accuracy\")\n",
        "accuracy = evaluator.evaluate(predictions)\n",
        "print(\"Accuracy =\", accuracy)\n"
      ]
    },
    {
      "cell_type": "code",
      "execution_count": 50,
      "metadata": {
        "id": "25gJpkf1rOvR"
      },
      "outputs": [],
      "source": [
        "prediction=predictions.select(\"prediction\", \"label\")"
      ]
    },
    {
      "cell_type": "markdown",
      "metadata": {
        "id": "X3Tri7MRrPwz"
      },
      "source": []
    },
    {
      "cell_type": "code",
      "execution_count": 51,
      "metadata": {
        "colab": {
          "base_uri": "https://localhost:8080/"
        },
        "id": "wJSZKI908xWD",
        "outputId": "f0724631-4b8f-4041-91d6-3b99c5d4da73"
      },
      "outputs": [
        {
          "name": "stderr",
          "output_type": "stream",
          "text": [
            "d:\\Python311\\Lib\\site-packages\\pyspark\\sql\\context.py:158: FutureWarning: Deprecated in 3.0.0. Use SparkSession.builder.getOrCreate() instead.\n",
            "  warnings.warn(\n"
          ]
        }
      ],
      "source": [
        "metrics = MulticlassMetrics(prediction.rdd.map(tuple))"
      ]
    },
    {
      "cell_type": "code",
      "execution_count": 52,
      "metadata": {
        "colab": {
          "base_uri": "https://localhost:8080/"
        },
        "id": "EN0KiP658zPI",
        "outputId": "8351f203-2773-4b68-e38c-5df830fbed76"
      },
      "outputs": [
        {
          "data": {
            "text/plain": [
              "array([[659.,  48.,   4.,   1.,   0.,   0.,   0.],\n",
              "       [ 61., 468.,  17.,   3.,   3.,   6.,   0.],\n",
              "       [  7.,   9., 394.,   0.,   0.,   1.,   0.],\n",
              "       [  1.,  12.,   0., 364.,   5.,   1.,   0.],\n",
              "       [  0.,   3.,   1.,   3., 313.,  20.,   0.],\n",
              "       [  0.,   0.,   5.,   0.,   7., 234.,   0.],\n",
              "       [  0.,   0.,   0.,   0.,   0.,   0., 105.]])"
            ]
          },
          "execution_count": 52,
          "metadata": {},
          "output_type": "execute_result"
        }
      ],
      "source": [
        "metrics.confusionMatrix().toArray().transpose()"
      ]
    },
    {
      "cell_type": "code",
      "execution_count": 53,
      "metadata": {
        "id": "ZyXrF7Tu4514"
      },
      "outputs": [],
      "source": [
        "sc.stop()"
      ]
    }
  ],
  "metadata": {
    "colab": {
      "provenance": [],
      "toc_visible": true
    },
    "kernelspec": {
      "display_name": "Python 3",
      "language": "python",
      "name": "python3"
    },
    "language_info": {
      "codemirror_mode": {
        "name": "ipython",
        "version": 3
      },
      "file_extension": ".py",
      "mimetype": "text/x-python",
      "name": "python",
      "nbconvert_exporter": "python",
      "pygments_lexer": "ipython3",
      "version": "3.11.9"
    }
  },
  "nbformat": 4,
  "nbformat_minor": 0
}
