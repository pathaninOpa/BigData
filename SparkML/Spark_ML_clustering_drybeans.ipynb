{
  "cells": [
    {
      "cell_type": "code",
      "execution_count": 1,
      "metadata": {
        "colab": {
          "base_uri": "https://localhost:8080/"
        },
        "id": "IivSU4q08cjS",
        "outputId": "c28e8469-d323-427b-b9c8-16a6f2f7b163"
      },
      "outputs": [],
      "source": [
        "# # Installing required packages\n",
        "# !pip install pyspark\n",
        "# !pip install findspark\n"
      ]
    },
    {
      "cell_type": "code",
      "execution_count": 2,
      "metadata": {
        "id": "iS7XsrwO7w8k"
      },
      "outputs": [],
      "source": [
        "from pyspark import SparkContext, SparkConf\n",
        "from pyspark.sql import SparkSession\n",
        "from pyspark.sql import SQLContext\n",
        "import os\n",
        "os.environ['PYSPARK_PYTHON'] = 'D:\\\\Python311\\\\python.exe'\n",
        "os.environ['PYSPARK_DRIVER_PYTHON'] = 'D:\\\\Python311\\\\python.exe'\n",
        "os.environ['JAVA_HOME'] = 'D:\\\\Java\\\\jdk1.8.0_202\\\\'"
      ]
    },
    {
      "cell_type": "markdown",
      "metadata": {
        "id": "4kIvHOG3EMVk"
      },
      "source": [
        "##  Load the data\n"
      ]
    },
    {
      "cell_type": "code",
      "execution_count": 3,
      "metadata": {
        "id": "y8dLqnYyHNbm"
      },
      "outputs": [],
      "source": [
        "spark = SparkSession \\\n",
        "    .builder \\\n",
        "    .appName(\"clustering\") \\\n",
        "    .getOrCreate()\n"
      ]
    },
    {
      "cell_type": "code",
      "execution_count": 4,
      "metadata": {
        "id": "GyZ9J4_0rwlh"
      },
      "outputs": [
        {
          "name": "stderr",
          "output_type": "stream",
          "text": [
            "d:\\Python311\\Lib\\site-packages\\pyspark\\sql\\context.py:113: FutureWarning: Deprecated in 3.0.0. Use SparkSession.builder.getOrCreate() instead.\n",
            "  warnings.warn(\n"
          ]
        }
      ],
      "source": [
        "sqlContext = SQLContext(spark)"
      ]
    },
    {
      "cell_type": "markdown",
      "metadata": {
        "id": "uvP-etkbErLC"
      },
      "source": [
        "## Select input data"
      ]
    },
    {
      "cell_type": "code",
      "execution_count": 5,
      "metadata": {
        "colab": {
          "base_uri": "https://localhost:8080/",
          "height": 73
        },
        "id": "teTBkJyJw5Jm",
        "outputId": "3010a250-9b47-4712-9318-286e4165e6b3"
      },
      "outputs": [],
      "source": [
        "# from google.colab import files\n",
        "\n",
        "\n",
        "# uploaded = files.upload()"
      ]
    },
    {
      "cell_type": "code",
      "execution_count": 6,
      "metadata": {
        "id": "JPvgjLswDLuX"
      },
      "outputs": [],
      "source": [
        "file='\\\\Users\\\\kimil\\\\OneDrive\\\\Desktop\\\\MUIC_work\\\\BigData\\\\BigData\\\\SparkML\\\\data\\\\drybeans.csv'\n",
        "\n",
        "df = sqlContext.read.load(file,\n",
        "                          format='com.databricks.spark.csv',\n",
        "                          header='true',inferSchema='true')"
      ]
    },
    {
      "cell_type": "code",
      "execution_count": 7,
      "metadata": {
        "colab": {
          "base_uri": "https://localhost:8080/"
        },
        "id": "pLwztrkz7w8o",
        "outputId": "b17f5b29-7141-4ff6-cb25-0b717444ab7e"
      },
      "outputs": [
        {
          "data": {
            "text/plain": [
              "13611"
            ]
          },
          "execution_count": 7,
          "metadata": {},
          "output_type": "execute_result"
        }
      ],
      "source": [
        "df.count()"
      ]
    },
    {
      "cell_type": "code",
      "execution_count": 8,
      "metadata": {
        "colab": {
          "base_uri": "https://localhost:8080/",
          "height": 206
        },
        "id": "yqIr_Udu7w8p",
        "outputId": "65938e68-17de-4bd5-cd4b-70c8477da140",
        "scrolled": true
      },
      "outputs": [
        {
          "data": {
            "text/html": [
              "<div>\n",
              "<style scoped>\n",
              "    .dataframe tbody tr th:only-of-type {\n",
              "        vertical-align: middle;\n",
              "    }\n",
              "\n",
              "    .dataframe tbody tr th {\n",
              "        vertical-align: top;\n",
              "    }\n",
              "\n",
              "    .dataframe thead th {\n",
              "        text-align: right;\n",
              "    }\n",
              "</style>\n",
              "<table border=\"1\" class=\"dataframe\">\n",
              "  <thead>\n",
              "    <tr style=\"text-align: right;\">\n",
              "      <th></th>\n",
              "      <th>0</th>\n",
              "      <th>1</th>\n",
              "      <th>2</th>\n",
              "      <th>3</th>\n",
              "      <th>4</th>\n",
              "    </tr>\n",
              "  </thead>\n",
              "  <tbody>\n",
              "    <tr>\n",
              "      <th>summary</th>\n",
              "      <td>count</td>\n",
              "      <td>mean</td>\n",
              "      <td>stddev</td>\n",
              "      <td>min</td>\n",
              "      <td>max</td>\n",
              "    </tr>\n",
              "    <tr>\n",
              "      <th>Area</th>\n",
              "      <td>13611</td>\n",
              "      <td>53048.284549261625</td>\n",
              "      <td>29324.09571688207</td>\n",
              "      <td>20420</td>\n",
              "      <td>254616</td>\n",
              "    </tr>\n",
              "    <tr>\n",
              "      <th>Perimeter</th>\n",
              "      <td>13611</td>\n",
              "      <td>855.2834585996654</td>\n",
              "      <td>214.28969589196151</td>\n",
              "      <td>524.736</td>\n",
              "      <td>1985.37</td>\n",
              "    </tr>\n",
              "    <tr>\n",
              "      <th>MajorAxisLength</th>\n",
              "      <td>13611</td>\n",
              "      <td>320.1418673032194</td>\n",
              "      <td>85.6941859593335</td>\n",
              "      <td>183.601165</td>\n",
              "      <td>738.8601535</td>\n",
              "    </tr>\n",
              "    <tr>\n",
              "      <th>MinorAxisLength</th>\n",
              "      <td>13611</td>\n",
              "      <td>202.2707140828817</td>\n",
              "      <td>44.97009129411471</td>\n",
              "      <td>122.5126535</td>\n",
              "      <td>460.1984968</td>\n",
              "    </tr>\n",
              "    <tr>\n",
              "      <th>AspectRation</th>\n",
              "      <td>13611</td>\n",
              "      <td>1.5832419790188144</td>\n",
              "      <td>0.24667845568580432</td>\n",
              "      <td>1.024867596</td>\n",
              "      <td>2.430306447</td>\n",
              "    </tr>\n",
              "    <tr>\n",
              "      <th>Eccentricity</th>\n",
              "      <td>13611</td>\n",
              "      <td>0.750894929372346</td>\n",
              "      <td>0.09200176320620888</td>\n",
              "      <td>0.218951263</td>\n",
              "      <td>0.911422968</td>\n",
              "    </tr>\n",
              "    <tr>\n",
              "      <th>ConvexArea</th>\n",
              "      <td>13611</td>\n",
              "      <td>53768.20020571596</td>\n",
              "      <td>29774.915817000012</td>\n",
              "      <td>20684</td>\n",
              "      <td>263261</td>\n",
              "    </tr>\n",
              "    <tr>\n",
              "      <th>EquivDiameter</th>\n",
              "      <td>13611</td>\n",
              "      <td>253.06421992490445</td>\n",
              "      <td>59.17712014871156</td>\n",
              "      <td>161.2437642</td>\n",
              "      <td>569.3743583</td>\n",
              "    </tr>\n",
              "    <tr>\n",
              "      <th>Extent</th>\n",
              "      <td>13611</td>\n",
              "      <td>0.7497327873564055</td>\n",
              "      <td>0.049086366843964224</td>\n",
              "      <td>0.555314717</td>\n",
              "      <td>0.866194641</td>\n",
              "    </tr>\n",
              "    <tr>\n",
              "      <th>Solidity</th>\n",
              "      <td>13611</td>\n",
              "      <td>0.9871428435655719</td>\n",
              "      <td>0.004660379169838</td>\n",
              "      <td>0.919246157</td>\n",
              "      <td>0.9946775</td>\n",
              "    </tr>\n",
              "    <tr>\n",
              "      <th>roundness</th>\n",
              "      <td>13611</td>\n",
              "      <td>0.873281831305413</td>\n",
              "      <td>0.05951988794941863</td>\n",
              "      <td>0.489618256</td>\n",
              "      <td>0.9906854</td>\n",
              "    </tr>\n",
              "    <tr>\n",
              "      <th>Compactness</th>\n",
              "      <td>13611</td>\n",
              "      <td>0.7998636818695875</td>\n",
              "      <td>0.06171346311682412</td>\n",
              "      <td>0.640576759</td>\n",
              "      <td>0.987302969</td>\n",
              "    </tr>\n",
              "    <tr>\n",
              "      <th>ShapeFactor1</th>\n",
              "      <td>13611</td>\n",
              "      <td>0.006563608507383666</td>\n",
              "      <td>0.0011279982248070671</td>\n",
              "      <td>0.002778013</td>\n",
              "      <td>0.010451169</td>\n",
              "    </tr>\n",
              "    <tr>\n",
              "      <th>ShapeFactor2</th>\n",
              "      <td>13611</td>\n",
              "      <td>0.001715947338917041</td>\n",
              "      <td>5.958748528937661E-4</td>\n",
              "      <td>5.64169E-4</td>\n",
              "      <td>0.003664972</td>\n",
              "    </tr>\n",
              "    <tr>\n",
              "      <th>ShapeFactor3</th>\n",
              "      <td>13611</td>\n",
              "      <td>0.6435901812970417</td>\n",
              "      <td>0.098996150476599</td>\n",
              "      <td>0.410338584</td>\n",
              "      <td>0.974767153</td>\n",
              "    </tr>\n",
              "    <tr>\n",
              "      <th>ShapeFactor4</th>\n",
              "      <td>13611</td>\n",
              "      <td>0.9950633118301326</td>\n",
              "      <td>0.004366457746633824</td>\n",
              "      <td>0.947687403</td>\n",
              "      <td>0.99973253</td>\n",
              "    </tr>\n",
              "    <tr>\n",
              "      <th>Class</th>\n",
              "      <td>13611</td>\n",
              "      <td>None</td>\n",
              "      <td>None</td>\n",
              "      <td>BARBUNYA</td>\n",
              "      <td>SIRA</td>\n",
              "    </tr>\n",
              "  </tbody>\n",
              "</table>\n",
              "</div>"
            ],
            "text/plain": [
              "                     0                     1                      2  \\\n",
              "summary          count                  mean                 stddev   \n",
              "Area             13611    53048.284549261625      29324.09571688207   \n",
              "Perimeter        13611     855.2834585996654     214.28969589196151   \n",
              "MajorAxisLength  13611     320.1418673032194       85.6941859593335   \n",
              "MinorAxisLength  13611     202.2707140828817      44.97009129411471   \n",
              "AspectRation     13611    1.5832419790188144    0.24667845568580432   \n",
              "Eccentricity     13611     0.750894929372346    0.09200176320620888   \n",
              "ConvexArea       13611     53768.20020571596     29774.915817000012   \n",
              "EquivDiameter    13611    253.06421992490445      59.17712014871156   \n",
              "Extent           13611    0.7497327873564055   0.049086366843964224   \n",
              "Solidity         13611    0.9871428435655719      0.004660379169838   \n",
              "roundness        13611     0.873281831305413    0.05951988794941863   \n",
              "Compactness      13611    0.7998636818695875    0.06171346311682412   \n",
              "ShapeFactor1     13611  0.006563608507383666  0.0011279982248070671   \n",
              "ShapeFactor2     13611  0.001715947338917041   5.958748528937661E-4   \n",
              "ShapeFactor3     13611    0.6435901812970417      0.098996150476599   \n",
              "ShapeFactor4     13611    0.9950633118301326   0.004366457746633824   \n",
              "Class            13611                  None                   None   \n",
              "\n",
              "                           3            4  \n",
              "summary                  min          max  \n",
              "Area                   20420       254616  \n",
              "Perimeter            524.736      1985.37  \n",
              "MajorAxisLength   183.601165  738.8601535  \n",
              "MinorAxisLength  122.5126535  460.1984968  \n",
              "AspectRation     1.024867596  2.430306447  \n",
              "Eccentricity     0.218951263  0.911422968  \n",
              "ConvexArea             20684       263261  \n",
              "EquivDiameter    161.2437642  569.3743583  \n",
              "Extent           0.555314717  0.866194641  \n",
              "Solidity         0.919246157    0.9946775  \n",
              "roundness        0.489618256    0.9906854  \n",
              "Compactness      0.640576759  0.987302969  \n",
              "ShapeFactor1     0.002778013  0.010451169  \n",
              "ShapeFactor2      5.64169E-4  0.003664972  \n",
              "ShapeFactor3     0.410338584  0.974767153  \n",
              "ShapeFactor4     0.947687403   0.99973253  \n",
              "Class               BARBUNYA         SIRA  "
            ]
          },
          "execution_count": 8,
          "metadata": {},
          "output_type": "execute_result"
        }
      ],
      "source": [
        "df.describe().toPandas().transpose()"
      ]
    },
    {
      "cell_type": "code",
      "execution_count": 9,
      "metadata": {},
      "outputs": [],
      "source": [
        "from pyspark.ml.feature import StringIndexer\n",
        "indexer = StringIndexer(inputCol=\"Class\", outputCol=\"label\")\n",
        "df = indexer.fit(df).transform(df)"
      ]
    },
    {
      "cell_type": "code",
      "execution_count": 10,
      "metadata": {},
      "outputs": [
        {
          "name": "stdout",
          "output_type": "stream",
          "text": [
            "root\n",
            " |-- Area: integer (nullable = true)\n",
            " |-- Perimeter: double (nullable = true)\n",
            " |-- MajorAxisLength: double (nullable = true)\n",
            " |-- MinorAxisLength: double (nullable = true)\n",
            " |-- AspectRation: double (nullable = true)\n",
            " |-- Eccentricity: double (nullable = true)\n",
            " |-- ConvexArea: integer (nullable = true)\n",
            " |-- EquivDiameter: double (nullable = true)\n",
            " |-- Extent: double (nullable = true)\n",
            " |-- Solidity: double (nullable = true)\n",
            " |-- roundness: double (nullable = true)\n",
            " |-- Compactness: double (nullable = true)\n",
            " |-- ShapeFactor1: double (nullable = true)\n",
            " |-- ShapeFactor2: double (nullable = true)\n",
            " |-- ShapeFactor3: double (nullable = true)\n",
            " |-- ShapeFactor4: double (nullable = true)\n",
            " |-- label: double (nullable = false)\n",
            "\n"
          ]
        }
      ],
      "source": [
        "ndf = df.drop('Class')\n",
        "ndf.printSchema()"
      ]
    },
    {
      "cell_type": "code",
      "execution_count": 11,
      "metadata": {},
      "outputs": [
        {
          "name": "stdout",
          "output_type": "stream",
          "text": [
            "root\n",
            " |-- Area: integer (nullable = true)\n",
            " |-- Perimeter: double (nullable = true)\n",
            " |-- MajorAxisLength: double (nullable = true)\n",
            " |-- MinorAxisLength: double (nullable = true)\n",
            " |-- AspectRation: double (nullable = true)\n",
            " |-- Eccentricity: double (nullable = true)\n",
            " |-- ConvexArea: integer (nullable = true)\n",
            " |-- EquivDiameter: double (nullable = true)\n",
            " |-- Extent: double (nullable = true)\n",
            " |-- Solidity: double (nullable = true)\n",
            " |-- roundness: double (nullable = true)\n",
            " |-- Compactness: double (nullable = true)\n",
            " |-- ShapeFactor1: double (nullable = true)\n",
            " |-- ShapeFactor2: double (nullable = true)\n",
            " |-- ShapeFactor3: double (nullable = true)\n",
            " |-- ShapeFactor4: double (nullable = true)\n",
            " |-- Class: string (nullable = true)\n",
            " |-- label: double (nullable = false)\n",
            "\n"
          ]
        }
      ],
      "source": [
        "df.printSchema()"
      ]
    },
    {
      "cell_type": "markdown",
      "metadata": {
        "id": "IESX-adV1v8T"
      },
      "source": [
        "# Prepare the features"
      ]
    },
    {
      "cell_type": "code",
      "execution_count": 12,
      "metadata": {
        "collapsed": true,
        "id": "6k39pRhy7w8s"
      },
      "outputs": [
        {
          "name": "stdout",
          "output_type": "stream",
          "text": [
            "+-----+---------+---------------+---------------+------------+------------+----------+-------------+-----------+-----------+-----------+-----------+------------+------------+------------+------------+-----+-----+--------------------+\n",
            "| Area|Perimeter|MajorAxisLength|MinorAxisLength|AspectRation|Eccentricity|ConvexArea|EquivDiameter|     Extent|   Solidity|  roundness|Compactness|ShapeFactor1|ShapeFactor2|ShapeFactor3|ShapeFactor4|Class|label|            features|\n",
            "+-----+---------+---------------+---------------+------------+------------+----------+-------------+-----------+-----------+-----------+-----------+------------+------------+------------+------------+-----+-----+--------------------+\n",
            "|28395|  610.291|    208.1781167|     173.888747| 1.197191424| 0.549812187|     28715|  190.1410973|0.763922518|0.988855999|0.958027126|0.913357755| 0.007331506| 0.003147289| 0.834222388| 0.998723889|SEKER|  2.0|[28395.0,610.291,...|\n",
            "|28734|  638.018|    200.5247957|    182.7344194| 1.097356461| 0.411785251|     29172|  191.2727505|0.783968133|0.984985603|0.887033637|0.953860842| 0.006978659| 0.003563624| 0.909850506| 0.998430331|SEKER|  2.0|[28734.0,638.018,...|\n",
            "|29380|   624.11|    212.8261299|    175.9311426| 1.209712656| 0.562727317|     29690|  193.4109041|0.778113248|0.989558774|0.947849473|0.908774239| 0.007243912| 0.003047733| 0.825870617| 0.999066137|SEKER|  2.0|[29380.0,624.11,2...|\n",
            "|30008|  645.884|     210.557999|    182.5165157| 1.153638059| 0.498615976|     30724|  195.4670618|0.782681273|0.976695743|0.903936374|0.928328835| 0.007016729| 0.003214562| 0.861794425| 0.994198849|SEKER|  2.0|[30008.0,645.884,...|\n",
            "|30140|  620.134|    201.8478822|    190.2792788|  1.06079802| 0.333679658|     30417|   195.896503|0.773098035| 0.99089325|0.984877069|0.970515523|  0.00669701| 0.003664972| 0.941900381| 0.999166059|SEKER|  2.0|[30140.0,620.134,...|\n",
            "|30279|  634.927|    212.5605564|    181.5101816| 1.171066849|  0.52040066|     30600|  196.3477022|0.775688485|0.989509804|0.943851783|0.923725952| 0.007020065| 0.003152779| 0.853269634| 0.999235781|SEKER|  2.0|[30279.0,634.927,...|\n",
            "|30477|  670.033|    211.0501553|    184.0390501| 1.146768336| 0.489477894|     30970|  196.9886332|0.762401501|0.984081369|0.853079869|0.933373552| 0.006924899| 0.003242016| 0.871186188| 0.999048736|SEKER|  2.0|[30477.0,670.033,...|\n",
            "|30519|  629.727|    212.9967551|    182.7372038| 1.165590535| 0.513759558|     30847|  197.1243203|0.770681818|0.989366875|0.967109244|0.925480392| 0.006979152| 0.003158285| 0.856513956|  0.99834456|SEKER|  2.0|[30519.0,629.727,...|\n",
            "|30685|  635.681|    213.5341452|    183.1571463| 1.165852108|  0.51408086|     31044|   197.659696|0.771561479|0.988435769|0.954239808|0.925658498|  0.00695891|  0.00315155| 0.856843654| 0.998952981|SEKER|  2.0|[30685.0,635.681,...|\n",
            "|30834|  631.934|    217.2278128|    180.8974686|   1.2008339| 0.553642225|     31120|  198.1390121|0.783682806|0.990809769| 0.97027823| 0.91212543| 0.007045074|  0.00300804|   0.8319728| 0.999061142|SEKER|  2.0|[30834.0,631.934,...|\n",
            "|30917|  640.765|    213.5600894|    184.4398709| 1.157884618| 0.504102365|     31280|  198.4055115|0.770805285|0.988395141| 0.94625818|0.929038343| 0.006907529|  0.00317422| 0.863112242| 0.999384389|SEKER|  2.0|[30917.0,640.765,...|\n",
            "|31091|  638.558|    210.4862549|    188.3268476| 1.117664622| 0.446621924|     31458|  198.9630385|0.786377317|0.988333651|0.958172836|0.945254305| 0.006770006| 0.003333984|   0.8935057| 0.998639711|SEKER|  2.0|[31091.0,638.558,...|\n",
            "|31107|  640.594|    214.6485485|    184.9692526| 1.160455295| 0.507365875|     31423|  199.0142269|0.761046142|0.989943672|0.952581757|0.927163162| 0.006900329| 0.003145388| 0.859631529| 0.997563959|SEKER|  2.0|[31107.0,640.594,...|\n",
            "|31158|  642.626|    216.4848362|    183.6443122| 1.178826797| 0.529514251|     31492|  199.1773023|0.798759229|0.989394132|0.948119004| 0.92005198|  0.00694797| 0.003071052| 0.846495646| 0.997871751|SEKER|  2.0|[31158.0,642.626,...|\n",
            "|31158|  641.105|    212.0669751|    187.1929601| 1.132879009| 0.469924157|     31474|  199.1773023|0.781313473|0.989959967|0.952623101|0.939218858| 0.006806181|  0.00326701| 0.882132064| 0.999348898|SEKER|  2.0|[31158.0,641.105,...|\n",
            "|31178|  636.888|    212.9759252|    186.5620882| 1.141582018| 0.482352224|     31520|  199.2412169|0.764110482|0.989149746|0.965899596|0.935510513| 0.006830968| 0.003227429| 0.875179919| 0.999089658|SEKER|  2.0|[31178.0,636.888,...|\n",
            "|31202|  644.454|    215.6406947|    184.4716842| 1.168963657| 0.517871223|     31573|  199.3178875|0.779192888|0.988249454|0.944079243|0.924305534| 0.006911118| 0.003111647|  0.85434072| 0.998693253|SEKER|  2.0|[31202.0,644.454,...|\n",
            "|31203|  639.782|     215.067737|    184.8748759| 1.163315112| 0.510946829|     31558|  199.3210815|0.762984155|0.988750871|0.957948542|0.926782809| 0.006892534| 0.003136682| 0.858926376| 0.999202033|SEKER|  2.0|[31203.0,639.782,...|\n",
            "|31272|  638.666|    212.4503189|     187.535939| 1.132851229| 0.469883494|     31593|  199.5413417|0.770322199|0.989839521|0.963425036|0.939237666| 0.006793627| 0.003261246| 0.882167393| 0.999364415|SEKER|  2.0|[31272.0,638.666,...|\n",
            "|31335|  635.011|    216.7900923|    184.1634403| 1.177161395|  0.52758671|     31599|  199.7422367|0.774277242|0.991645305|0.976510834|0.921362386| 0.006918465| 0.003075469| 0.848908647| 0.999302487|SEKER|  2.0|[31335.0,635.011,...|\n",
            "+-----+---------+---------------+---------------+------------+------------+----------+-------------+-----------+-----------+-----------+-----------+------------+------------+------------+------------+-----+-----+--------------------+\n",
            "only showing top 20 rows\n",
            "\n"
          ]
        }
      ],
      "source": [
        "from pyspark.ml.feature import VectorAssembler\n",
        "featuresUsed = ndf.columns\n",
        "\n",
        "assembler = VectorAssembler(inputCols=featuresUsed, outputCol=\"features\")\n",
        "assembled = assembler.transform(df)\n",
        "assembled.show()"
      ]
    },
    {
      "cell_type": "markdown",
      "metadata": {
        "id": "K8G4_uaQ2ozZ"
      },
      "source": [
        "# Choose number of cluster of Kmean"
      ]
    },
    {
      "cell_type": "code",
      "execution_count": 13,
      "metadata": {
        "id": "hlRK6SHJteek"
      },
      "outputs": [],
      "source": [
        "number_of_clusters = 8"
      ]
    },
    {
      "cell_type": "code",
      "execution_count": 14,
      "metadata": {
        "id": "Dhu2TIC8tehb"
      },
      "outputs": [],
      "source": [
        "from pyspark.ml.clustering import KMeans\n",
        "kmeans = KMeans(k = number_of_clusters).setSeed(10)"
      ]
    },
    {
      "cell_type": "code",
      "execution_count": 15,
      "metadata": {
        "id": "RyMbahWStekC"
      },
      "outputs": [],
      "source": [
        "model = kmeans.fit(assembled)"
      ]
    },
    {
      "cell_type": "markdown",
      "metadata": {
        "id": "EToLRMbp2vNT"
      },
      "source": [
        "# Make prediction and show evaluation"
      ]
    },
    {
      "cell_type": "code",
      "execution_count": 16,
      "metadata": {
        "id": "JPR5xuCJtemn"
      },
      "outputs": [],
      "source": [
        "predictions = model.transform(assembled)"
      ]
    },
    {
      "cell_type": "code",
      "execution_count": 17,
      "metadata": {},
      "outputs": [
        {
          "name": "stdout",
          "output_type": "stream",
          "text": [
            "+-----+---------+---------------+---------------+------------+------------+----------+-------------+-----------+-----------+-----------+-----------+------------+------------+------------+------------+-----+-----+--------------------+----------+\n",
            "| Area|Perimeter|MajorAxisLength|MinorAxisLength|AspectRation|Eccentricity|ConvexArea|EquivDiameter|     Extent|   Solidity|  roundness|Compactness|ShapeFactor1|ShapeFactor2|ShapeFactor3|ShapeFactor4|Class|label|            features|prediction|\n",
            "+-----+---------+---------------+---------------+------------+------------+----------+-------------+-----------+-----------+-----------+-----------+------------+------------+------------+------------+-----+-----+--------------------+----------+\n",
            "|28395|  610.291|    208.1781167|     173.888747| 1.197191424| 0.549812187|     28715|  190.1410973|0.763922518|0.988855999|0.958027126|0.913357755| 0.007331506| 0.003147289| 0.834222388| 0.998723889|SEKER|  2.0|[28395.0,610.291,...|         7|\n",
            "|28734|  638.018|    200.5247957|    182.7344194| 1.097356461| 0.411785251|     29172|  191.2727505|0.783968133|0.984985603|0.887033637|0.953860842| 0.006978659| 0.003563624| 0.909850506| 0.998430331|SEKER|  2.0|[28734.0,638.018,...|         7|\n",
            "|29380|   624.11|    212.8261299|    175.9311426| 1.209712656| 0.562727317|     29690|  193.4109041|0.778113248|0.989558774|0.947849473|0.908774239| 0.007243912| 0.003047733| 0.825870617| 0.999066137|SEKER|  2.0|[29380.0,624.11,2...|         7|\n",
            "|30008|  645.884|     210.557999|    182.5165157| 1.153638059| 0.498615976|     30724|  195.4670618|0.782681273|0.976695743|0.903936374|0.928328835| 0.007016729| 0.003214562| 0.861794425| 0.994198849|SEKER|  2.0|[30008.0,645.884,...|         7|\n",
            "|30140|  620.134|    201.8478822|    190.2792788|  1.06079802| 0.333679658|     30417|   195.896503|0.773098035| 0.99089325|0.984877069|0.970515523|  0.00669701| 0.003664972| 0.941900381| 0.999166059|SEKER|  2.0|[30140.0,620.134,...|         7|\n",
            "|30279|  634.927|    212.5605564|    181.5101816| 1.171066849|  0.52040066|     30600|  196.3477022|0.775688485|0.989509804|0.943851783|0.923725952| 0.007020065| 0.003152779| 0.853269634| 0.999235781|SEKER|  2.0|[30279.0,634.927,...|         7|\n",
            "|30477|  670.033|    211.0501553|    184.0390501| 1.146768336| 0.489477894|     30970|  196.9886332|0.762401501|0.984081369|0.853079869|0.933373552| 0.006924899| 0.003242016| 0.871186188| 0.999048736|SEKER|  2.0|[30477.0,670.033,...|         7|\n",
            "|30519|  629.727|    212.9967551|    182.7372038| 1.165590535| 0.513759558|     30847|  197.1243203|0.770681818|0.989366875|0.967109244|0.925480392| 0.006979152| 0.003158285| 0.856513956|  0.99834456|SEKER|  2.0|[30519.0,629.727,...|         7|\n",
            "|30685|  635.681|    213.5341452|    183.1571463| 1.165852108|  0.51408086|     31044|   197.659696|0.771561479|0.988435769|0.954239808|0.925658498|  0.00695891|  0.00315155| 0.856843654| 0.998952981|SEKER|  2.0|[30685.0,635.681,...|         7|\n",
            "|30834|  631.934|    217.2278128|    180.8974686|   1.2008339| 0.553642225|     31120|  198.1390121|0.783682806|0.990809769| 0.97027823| 0.91212543| 0.007045074|  0.00300804|   0.8319728| 0.999061142|SEKER|  2.0|[30834.0,631.934,...|         7|\n",
            "|30917|  640.765|    213.5600894|    184.4398709| 1.157884618| 0.504102365|     31280|  198.4055115|0.770805285|0.988395141| 0.94625818|0.929038343| 0.006907529|  0.00317422| 0.863112242| 0.999384389|SEKER|  2.0|[30917.0,640.765,...|         7|\n",
            "|31091|  638.558|    210.4862549|    188.3268476| 1.117664622| 0.446621924|     31458|  198.9630385|0.786377317|0.988333651|0.958172836|0.945254305| 0.006770006| 0.003333984|   0.8935057| 0.998639711|SEKER|  2.0|[31091.0,638.558,...|         7|\n",
            "|31107|  640.594|    214.6485485|    184.9692526| 1.160455295| 0.507365875|     31423|  199.0142269|0.761046142|0.989943672|0.952581757|0.927163162| 0.006900329| 0.003145388| 0.859631529| 0.997563959|SEKER|  2.0|[31107.0,640.594,...|         7|\n",
            "|31158|  642.626|    216.4848362|    183.6443122| 1.178826797| 0.529514251|     31492|  199.1773023|0.798759229|0.989394132|0.948119004| 0.92005198|  0.00694797| 0.003071052| 0.846495646| 0.997871751|SEKER|  2.0|[31158.0,642.626,...|         7|\n",
            "|31158|  641.105|    212.0669751|    187.1929601| 1.132879009| 0.469924157|     31474|  199.1773023|0.781313473|0.989959967|0.952623101|0.939218858| 0.006806181|  0.00326701| 0.882132064| 0.999348898|SEKER|  2.0|[31158.0,641.105,...|         7|\n",
            "|31178|  636.888|    212.9759252|    186.5620882| 1.141582018| 0.482352224|     31520|  199.2412169|0.764110482|0.989149746|0.965899596|0.935510513| 0.006830968| 0.003227429| 0.875179919| 0.999089658|SEKER|  2.0|[31178.0,636.888,...|         7|\n",
            "|31202|  644.454|    215.6406947|    184.4716842| 1.168963657| 0.517871223|     31573|  199.3178875|0.779192888|0.988249454|0.944079243|0.924305534| 0.006911118| 0.003111647|  0.85434072| 0.998693253|SEKER|  2.0|[31202.0,644.454,...|         7|\n",
            "|31203|  639.782|     215.067737|    184.8748759| 1.163315112| 0.510946829|     31558|  199.3210815|0.762984155|0.988750871|0.957948542|0.926782809| 0.006892534| 0.003136682| 0.858926376| 0.999202033|SEKER|  2.0|[31203.0,639.782,...|         7|\n",
            "|31272|  638.666|    212.4503189|     187.535939| 1.132851229| 0.469883494|     31593|  199.5413417|0.770322199|0.989839521|0.963425036|0.939237666| 0.006793627| 0.003261246| 0.882167393| 0.999364415|SEKER|  2.0|[31272.0,638.666,...|         7|\n",
            "|31335|  635.011|    216.7900923|    184.1634403| 1.177161395|  0.52758671|     31599|  199.7422367|0.774277242|0.991645305|0.976510834|0.921362386| 0.006918465| 0.003075469| 0.848908647| 0.999302487|SEKER|  2.0|[31335.0,635.011,...|         7|\n",
            "+-----+---------+---------------+---------------+------------+------------+----------+-------------+-----------+-----------+-----------+-----------+------------+------------+------------+------------+-----+-----+--------------------+----------+\n",
            "only showing top 20 rows\n",
            "\n"
          ]
        }
      ],
      "source": [
        "#predictions.select('prediction').show()\n",
        "predictions.show()"
      ]
    },
    {
      "cell_type": "code",
      "execution_count": 18,
      "metadata": {
        "colab": {
          "base_uri": "https://localhost:8080/"
        },
        "id": "LHLjnPgCuATa",
        "outputId": "d787faec-cd59-4ca9-fc76-2b14882a3e7a"
      },
      "outputs": [
        {
          "name": "stdout",
          "output_type": "stream",
          "text": [
            "+----------+-----+\n",
            "|prediction|count|\n",
            "+----------+-----+\n",
            "|         1|  248|\n",
            "|         6|  175|\n",
            "|         3|   98|\n",
            "|         5| 1894|\n",
            "|         4| 1028|\n",
            "|         7| 3426|\n",
            "|         2| 4293|\n",
            "|         0| 2449|\n",
            "+----------+-----+\n",
            "\n"
          ]
        }
      ],
      "source": [
        "predictions.groupBy('prediction').count().show()"
      ]
    },
    {
      "cell_type": "code",
      "execution_count": 19,
      "metadata": {},
      "outputs": [],
      "source": [
        "predictions.select(\"Class\",\"label\",\"prediction\").write.save(path=\"beans_predictions\",\n",
        "                                                     format=\"com.databricks.spark.csv\",\n",
        "                                                     header='true',\n",
        "                                                     mode = 'overwrite')"
      ]
    },
    {
      "cell_type": "code",
      "execution_count": 20,
      "metadata": {
        "id": "FGLHrS4KuWNA"
      },
      "outputs": [],
      "source": [
        "from pyspark.ml.evaluation import ClusteringEvaluator\n",
        "\n",
        "evaluator = ClusteringEvaluator()\n",
        "err = evaluator.evaluate(predictions)\n",
        "print(err)"
      ]
    },
    {
      "cell_type": "code",
      "execution_count": 21,
      "metadata": {
        "colab": {
          "base_uri": "https://localhost:8080/"
        },
        "id": "t_ifuz6wuabB",
        "outputId": "0956cfd3-6f9e-40a1-d559-8650a538e497"
      },
      "outputs": [
        {
          "name": "stdout",
          "output_type": "stream",
          "text": [
            "0.6927163219142628\n"
          ]
        }
      ],
      "source": [
        "print(err)"
      ]
    },
    {
      "cell_type": "code",
      "execution_count": 22,
      "metadata": {
        "id": "zC7eqmAMyp2X"
      },
      "outputs": [],
      "source": [
        "centers = model.clusterCenters()"
      ]
    },
    {
      "cell_type": "code",
      "execution_count": 23,
      "metadata": {
        "colab": {
          "base_uri": "https://localhost:8080/"
        },
        "id": "yKv2ThAQyr_h",
        "outputId": "c444c12b-7ecd-44b7-b7ed-240b3f647914"
      },
      "outputs": [
        {
          "name": "stdout",
          "output_type": "stream",
          "text": [
            "[array([5.31520606e+04, 8.98887719e+02, 3.50760143e+02, 1.95082571e+02,\n",
            "       1.81614123e+00, 8.18005809e-01, 5.38964574e+04, 2.59969640e+02,\n",
            "       7.24856377e-01, 9.86275194e-01, 8.28843268e-01, 7.46184271e-01,\n",
            "       6.60705608e-03, 1.28382039e-03, 5.60268366e-01, 9.93559352e-01,\n",
            "       2.58312858e+00]), array([1.76634323e+05, 1.60587315e+03, 6.04221895e+02, 3.75681374e+02,\n",
            "       1.61168851e+00, 7.79863455e-01, 1.79025339e+05, 4.74101932e+02,\n",
            "       7.77210424e-01, 9.86665893e-01, 8.60854796e-01, 7.85726177e-01,\n",
            "       3.42378535e-03, 8.07364919e-04, 6.18148153e-01, 9.91405902e-01,\n",
            "       6.00000000e+00]), array([4.16001304e+04, 7.61758725e+02, 2.80094278e+02, 1.90494581e+02,\n",
            "       1.48299837e+00, 7.12221709e-01, 4.20746505e+04, 2.29985412e+02,\n",
            "       7.54530961e-01, 9.88759720e-01, 9.02159029e-01, 8.26117487e-01,\n",
            "       6.74009282e-03, 1.96222556e-03, 6.85954554e-01, 9.96460300e-01,\n",
            "       1.32163607e+00]), array([2.09245071e+05, 1.75363204e+03, 6.63185079e+02, 4.05820597e+02,\n",
            "       1.63784459e+00, 7.87819304e-01, 2.12311480e+05, 5.15904820e+02,\n",
            "       7.78284046e-01, 9.85652165e-01, 8.54902063e-01, 7.78947759e-01,\n",
            "       3.17518554e-03, 7.23072296e-04, 6.07527154e-01, 9.90148008e-01,\n",
            "       6.00000000e+00]), array([8.37697573e+04, 1.12889913e+03, 4.25025023e+02, 2.53060336e+02,\n",
            "       1.68481961e+00, 7.98893181e-01, 8.51030587e+04, 3.26359368e+02,\n",
            "       7.55399827e-01, 9.84347261e-01, 8.26515119e-01, 7.69335159e-01,\n",
            "       5.08657359e-03, 1.10395596e-03, 5.92999228e-01, 9.92014004e-01,\n",
            "       4.32387476e+00]), array([6.88724166e+04, 1.02831376e+03, 3.86835302e+02, 2.28880439e+02,\n",
            "       1.70215702e+00, 7.98799327e-01, 6.99812165e+04, 2.95978877e+02,\n",
            "       7.47875913e-01, 9.84176647e-01, 8.19264862e-01, 7.67534125e-01,\n",
            "       5.63105045e-03, 1.21255314e-03, 5.91106856e-01, 9.92710878e-01,\n",
            "       4.24076030e+00]), array([1.49336389e+05, 1.46457898e+03, 5.39056308e+02, 3.55136470e+02,\n",
            "       1.52031647e+00, 7.48007338e-01, 1.51167657e+05, 4.35831324e+02,\n",
            "       7.74827181e-01, 9.87924926e-01, 8.74742983e-01, 8.09756508e-01,\n",
            "       3.61462452e-03, 9.62353669e-04, 6.56506760e-01, 9.93396570e-01,\n",
            "       6.00000000e+00]), array([3.11272272e+04, 6.53413992e+02, 2.38971522e+02, 1.66171296e+02,\n",
            "       1.44681066e+00, 7.07862997e-01, 3.14953934e+04, 1.98732665e+02,\n",
            "       7.56680254e-01, 9.88240525e-01, 9.13815961e-01, 8.33217997e-01,\n",
            "       7.74094810e-03, 2.30763929e-03, 6.96045342e-01, 9.97079570e-01,\n",
            "       3.39457568e-01])]\n"
          ]
        }
      ],
      "source": [
        "print(centers)"
      ]
    },
    {
      "cell_type": "code",
      "execution_count": 24,
      "metadata": {
        "colab": {
          "base_uri": "https://localhost:8080/"
        },
        "id": "iNoa1rDLv4Iw",
        "outputId": "9db75a4f-44db-4c6e-a8df-700b615ba9e7"
      },
      "outputs": [
        {
          "data": {
            "text/plain": [
              "DataFrame[features: vector]"
            ]
          },
          "execution_count": 24,
          "metadata": {},
          "output_type": "execute_result"
        }
      ],
      "source": [
        "elbowset = assembled.select(\"features\")\n",
        "elbowset.persist()"
      ]
    },
    {
      "cell_type": "markdown",
      "metadata": {
        "id": "Lbv6IhGmwDq9"
      },
      "source": [
        "# Data validation to find the best K"
      ]
    },
    {
      "cell_type": "code",
      "execution_count": 25,
      "metadata": {
        "id": "BApHwa97vtIC"
      },
      "outputs": [],
      "source": [
        "import numpy as np\n",
        "# Evaluate clustering by computing Silhouette score\n",
        "\n",
        "err = np.zeros(30)\n",
        "for k in range(2,31):\n",
        "    kmeans = KMeans()\\\n",
        "            .setK(k)\\\n",
        "            .setSeed(1)\n",
        "\n",
        "    model = kmeans.fit(elbowset)\n",
        "    prediction=model.transform(elbowset)\n",
        "    evaluator = ClusteringEvaluator()\n",
        "    silhouette = evaluator.evaluate(prediction)\n",
        "    err[k-1] = silhouette"
      ]
    },
    {
      "cell_type": "code",
      "execution_count": 26,
      "metadata": {
        "colab": {
          "base_uri": "https://localhost:8080/",
          "height": 542
        },
        "id": "70ko0ayIss7R",
        "outputId": "1a224cc1-6fa0-4f8b-b6cf-22d74ba4989d"
      },
      "outputs": [
        {
          "data": {
            "image/png": "[encoded data removed]",
            "text/plain": [
              "<Figure size 800x600 with 1 Axes>"
            ]
          },
          "metadata": {},
          "output_type": "display_data"
        }
      ],
      "source": [
        "import numpy as np\n",
        "import matplotlib.mlab as mlab\n",
        "import matplotlib.pyplot as plt\n",
        "import seaborn as sbs\n",
        "from matplotlib.ticker import MaxNLocator\n",
        "\n",
        "fig, ax = plt.subplots(1,1, figsize =(8,6))\n",
        "ax.plot(range(2,31),err[1:30])\n",
        "ax.set_xlabel('k')\n",
        "ax.set_ylabel('error')\n",
        "ax.xaxis.set_major_locator(MaxNLocator(integer=True))\n",
        "plt.show()"
      ]
    },
    {
      "cell_type": "markdown",
      "metadata": {
        "id": "iaCpjy_EEupC"
      },
      "source": [
        "#Scale the input data with 0 mean unit(1) variance"
      ]
    },
    {
      "cell_type": "code",
      "execution_count": 27,
      "metadata": {
        "collapsed": true,
        "id": "W_5avSo37w8s"
      },
      "outputs": [],
      "source": [
        "from pyspark.ml.feature import StandardScaler\n",
        "\n",
        "scaler = StandardScaler(inputCol=\"features\", outputCol=\"features_std\", withStd=True, withMean=True)\n",
        "scalerModel = scaler.fit(assembled)\n",
        "scaledData = scalerModel.transform(assembled)"
      ]
    },
    {
      "cell_type": "code",
      "execution_count": 28,
      "metadata": {
        "id": "gPWsYi0JwzHW"
      },
      "outputs": [],
      "source": [
        "kmean = KMeans(k = number_of_clusters,featuresCol=\"features_std\").setSeed(10)"
      ]
    },
    {
      "cell_type": "code",
      "execution_count": 29,
      "metadata": {
        "id": "XJY0EAxbw5Ot"
      },
      "outputs": [],
      "source": [
        "model_std = kmean.fit(scaledData)"
      ]
    },
    {
      "cell_type": "code",
      "execution_count": 30,
      "metadata": {
        "id": "qf7GX9u_zDVX"
      },
      "outputs": [],
      "source": [
        "prediction_std = model_std.transform(scaledData)\n"
      ]
    },
    {
      "cell_type": "code",
      "execution_count": 31,
      "metadata": {
        "colab": {
          "base_uri": "https://localhost:8080/"
        },
        "id": "HJHex9juzQxO",
        "outputId": "13e51ab5-4b48-4eac-d5e9-63a6a598e1c5"
      },
      "outputs": [
        {
          "name": "stdout",
          "output_type": "stream",
          "text": [
            "+----------+-----+\n",
            "|prediction|count|\n",
            "+----------+-----+\n",
            "|         1| 1870|\n",
            "|         6| 1083|\n",
            "|         3| 1556|\n",
            "|         5| 2731|\n",
            "|         4| 2807|\n",
            "|         7| 2073|\n",
            "|         2|  521|\n",
            "|         0|  970|\n",
            "+----------+-----+\n",
            "\n"
          ]
        }
      ],
      "source": [
        "prediction_std.groupBy('prediction').count().show()"
      ]
    },
    {
      "cell_type": "code",
      "execution_count": 32,
      "metadata": {
        "colab": {
          "base_uri": "https://localhost:8080/"
        },
        "id": "I8whivvKw5Rp",
        "outputId": "5c9379dc-d3ed-455b-9bc6-c80d515f73fa"
      },
      "outputs": [
        {
          "name": "stdout",
          "output_type": "stream",
          "text": [
            "0.09604404056021124\n"
          ]
        }
      ],
      "source": [
        "evaluator = ClusteringEvaluator()\n",
        "err = evaluator.evaluate(prediction_std)\n",
        "print(err)"
      ]
    },
    {
      "cell_type": "markdown",
      "metadata": {
        "id": "ksnqoNVVE6rI"
      },
      "source": [
        "## Perform elbow plot in the range of 2 - 31"
      ]
    },
    {
      "cell_type": "code",
      "execution_count": 33,
      "metadata": {
        "colab": {
          "base_uri": "https://localhost:8080/"
        },
        "id": "lGus9zmJz2EO",
        "outputId": "79795c72-8dac-46b3-c9ab-325b63dbfe83"
      },
      "outputs": [
        {
          "data": {
            "text/plain": [
              "DataFrame[features_std: vector]"
            ]
          },
          "execution_count": 33,
          "metadata": {},
          "output_type": "execute_result"
        }
      ],
      "source": [
        "elbowset = scaledData.select(\"features_std\")\n",
        "elbowset.persist()"
      ]
    },
    {
      "cell_type": "code",
      "execution_count": 34,
      "metadata": {
        "id": "UYFkNDa6-aP9"
      },
      "outputs": [],
      "source": [
        "# Evaluate clustering by computing Silhouette score\n",
        "err = np.zeros(30)\n",
        "for k in range(2,31):\n",
        "    kmeans = KMeans(featuresCol=\"features_std\")\\\n",
        "            .setK(k)\\\n",
        "            .setSeed(1)\n",
        "\n",
        "    model = kmeans.fit(elbowset)\n",
        "    prediction=model.transform(elbowset)\n",
        "    evaluator = ClusteringEvaluator(featuresCol=\"features_std\")\n",
        "    silhouette = evaluator.evaluate(prediction)\n",
        "    err[k-1] = silhouette"
      ]
    },
    {
      "cell_type": "code",
      "execution_count": 35,
      "metadata": {
        "colab": {
          "base_uri": "https://localhost:8080/",
          "height": 542
        },
        "id": "0VRAf92o7w8t",
        "outputId": "db9f1bd8-b301-41d2-ba4f-bd0e2a46e240"
      },
      "outputs": [
        {
          "data": {
            "image/png": "[encoded data removed]",
            "text/plain": [
              "<Figure size 800x600 with 1 Axes>"
            ]
          },
          "metadata": {},
          "output_type": "display_data"
        }
      ],
      "source": [
        "fig, ax = plt.subplots(1,1, figsize =(8,6))\n",
        "ax.plot(range(2,31),err[1:30])\n",
        "ax.set_xlabel('k')\n",
        "ax.set_ylabel('error')\n",
        "ax.xaxis.set_major_locator(MaxNLocator(integer=True))\n",
        "plt.show()"
      ]
    },
    {
      "cell_type": "markdown",
      "metadata": {
        "id": "m1XD3UsmE9ot"
      },
      "source": [
        "## Use K-mean with selected K"
      ]
    },
    {
      "cell_type": "code",
      "execution_count": 36,
      "metadata": {
        "collapsed": true,
        "id": "2r3XxwKs7w8u"
      },
      "outputs": [],
      "source": [
        "kmeans = KMeans(featuresCol=\"features_std\",k=16, seed=1)\n",
        "model = kmeans.fit(scaledData)\n",
        "transformed = model.transform(scaledData)"
      ]
    },
    {
      "cell_type": "code",
      "execution_count": 37,
      "metadata": {
        "colab": {
          "base_uri": "https://localhost:8080/"
        },
        "id": "qxjSXtQc7w8v",
        "outputId": "d2dc42b7-d369-49a8-e6d3-d1f3463f5aff",
        "scrolled": true
      },
      "outputs": [
        {
          "data": {
            "text/plain": [
              "[array([-0.24665492, -0.21127867, -0.15880176, -0.25283102,  0.09836683,\n",
              "         0.32094679, -0.24833283, -0.19936212, -0.83354618,  0.17099667,\n",
              "         0.04607479, -0.19617965,  0.13628342, -0.19670489, -0.22821236,\n",
              "         0.0888556 , -0.59131858]),\n",
              " array([ 1.79423770e-01,  5.00844477e-01,  6.34554507e-01,  5.91032377e-04,\n",
              "         1.11647630e+00,  9.53804448e-01,  2.20869269e-01,  3.08853059e-01,\n",
              "        -8.12621394e-01, -4.48023546e+00, -1.47156004e+00, -1.20410318e+00,\n",
              "        -2.74435565e-02, -9.98716709e-01, -1.17431129e+00, -4.96107391e+00,\n",
              "         5.74681632e-01]),\n",
              " array([ 0.56933877,  0.90655769,  0.53812288,  0.89541847, -0.28059223,\n",
              "        -0.06823208,  0.57892708,  0.74650791, -0.02494558, -1.05397553,\n",
              "        -1.32737404,  0.20802138, -1.11597066, -0.47698107,  0.17971844,\n",
              "         0.2085621 ,  1.5714572 ]),\n",
              " array([-0.52894405, -0.71214757, -0.96494917, -0.02704505, -1.62710985,\n",
              "        -2.42238433, -0.53285635, -0.5873369 ,  0.53816756,  0.68795242,\n",
              "         1.34221083,  1.93996478, -0.17842385,  1.83198764,  2.04349914,\n",
              "         0.80176403, -0.06723345]),\n",
              " array([ 0.02438754,  0.32383755,  0.64361315, -0.43019717,  1.90847244,\n",
              "         1.31657707,  0.02444291,  0.13479288, -2.23565492, -0.13885129,\n",
              "        -1.43443366, -1.67871006,  0.42402261, -1.16204602, -1.60027339,\n",
              "        -0.3847769 ,  0.47486215]),\n",
              " array([ 4.66891545,  3.82917627,  3.6857883 ,  4.03634468,  0.31297058,\n",
              "         0.48494571,  4.67406876,  4.02338819,  0.51234448, -0.574708  ,\n",
              "        -0.42607607, -0.43840322, -2.83418834, -1.63535889, -0.46295543,\n",
              "        -1.36016456,  2.13036603]),\n",
              " array([ 3.60490523,  3.0333472 ,  2.73925543,  3.6382797 , -0.26155589,\n",
              "        -0.02981923,  3.58511477,  3.3119952 ,  0.57413794,  0.40277726,\n",
              "         0.09081435,  0.16922364, -2.70693787, -1.30802766,  0.13812713,\n",
              "        -0.18991815,  2.12839544]),\n",
              " array([-0.31282312, -0.33395752, -0.30667373, -0.26136851, -0.16201017,\n",
              "         0.0883232 , -0.31585224, -0.28705014,  0.70810716,  0.39411978,\n",
              "         0.38272953,  0.07027792,  0.14201307,  0.03972823,  0.03605977,\n",
              "         0.24857851, -0.65665767]),\n",
              " array([-0.75486138, -0.93041436, -0.85013314, -0.95775235, -0.11526155,\n",
              "         0.14057004, -0.75533685, -0.92948215,  0.69749465,  0.23907065,\n",
              "         0.45279041,  0.02360466,  1.32125129,  0.5612231 , -0.01180992,\n",
              "         0.41995471, -1.12829645]),\n",
              " array([-0.67413532, -0.81870966, -0.76666582, -0.79697299, -0.21035453,\n",
              "         0.04915859, -0.67504969, -0.80512298, -0.70749666,  0.26669686,\n",
              "         0.4686389 ,  0.12227144,  1.02176167,  0.51310471,  0.08704533,\n",
              "         0.42253977, -1.11296017]),\n",
              " array([ 0.75878052,  0.93251175,  1.00784664,  0.76444827,  0.55032037,\n",
              "         0.65757837,  0.75323244,  0.94605567,  0.27880982,  0.2292656 ,\n",
              "        -0.4327407 , -0.62944877, -0.99983372, -0.98716762, -0.6469348 ,\n",
              "        -0.34868281,  1.1199418 ]),\n",
              " array([-3.92836965e-01, -5.20013265e-01, -6.87765118e-01,  1.07888539e-03,\n",
              "        -1.18134324e+00, -1.31169126e+00, -3.97744550e-01, -3.95884448e-01,\n",
              "         3.96793608e-01,  7.29234200e-01,  1.14162331e+00,  1.29017886e+00,\n",
              "        -2.13433247e-01,  1.03960966e+00,  1.31485027e+00,  7.18405388e-01,\n",
              "        -1.11288222e-01]),\n",
              " array([ 0.01706408,  0.2830632 ,  0.61772708, -0.42215333,  1.84173166,\n",
              "         1.29244425,  0.0154154 ,  0.12679523,  0.54781996,  0.06172694,\n",
              "        -1.23684533, -1.63147721,  0.40672383, -1.13747276, -1.55916024,\n",
              "        -0.31190373,  0.47627742]),\n",
              " array([-0.49933332, -0.44720015, -0.51428863, -0.5476211 , -0.10065203,\n",
              "         0.09582516, -0.48804439, -0.55497763, -0.36474525, -1.83488123,\n",
              "        -0.70006636, -0.00781786,  0.65820765,  0.22382924, -0.03481579,\n",
              "        -0.99511478, -0.71190935]),\n",
              " array([ 0.70337037,  0.93009487,  1.01325225,  0.6780223 ,  0.68149656,\n",
              "         0.73510278,  0.72094191,  0.88712463, -0.03914177, -1.68625769,\n",
              "        -0.74210665, -0.78389995, -0.87542739, -1.03534458, -0.79157447,\n",
              "        -1.96577552,  1.01628633]),\n",
              " array([-0.76960512, -0.99542985, -1.01624785, -0.80121624, -0.7325071 ,\n",
              "        -0.55925157, -0.77033889, -0.95526577,  0.24616202,  0.300379  ,\n",
              "         0.8738126 ,  0.70839694,  1.02383678,  1.17018822,  0.68934031,\n",
              "         0.50039279, -1.13443633])]"
            ]
          },
          "execution_count": 37,
          "metadata": {},
          "output_type": "execute_result"
        }
      ],
      "source": [
        "centers = model.clusterCenters()\n",
        "centers"
      ]
    },
    {
      "cell_type": "code",
      "execution_count": 38,
      "metadata": {
        "colab": {
          "base_uri": "https://localhost:8080/",
          "height": 430
        },
        "id": "h4JS0tFnJ4fS",
        "outputId": "570feadb-35ae-4260-f2db-2dae440899f1"
      },
      "outputs": [
        {
          "data": {
            "image/png": "[encoded data removed]",
            "text/plain": [
              "<Figure size 640x480 with 1 Axes>"
            ]
          },
          "metadata": {},
          "output_type": "display_data"
        }
      ],
      "source": [
        "for k in range(0,16):\n",
        "    plt.plot(centers[k][0],centers[k][1],'x')\n"
      ]
    },
    {
      "cell_type": "code",
      "execution_count": null,
      "metadata": {
        "id": "9uyNLChL1iD9"
      },
      "outputs": [],
      "source": []
    },
    {
      "cell_type": "code",
      "execution_count": 40,
      "metadata": {
        "id": "tEhxaug31iG5"
      },
      "outputs": [],
      "source": [
        "spark.stop()"
      ]
    }
  ],
  "metadata": {
    "colab": {
      "provenance": []
    },
    "kernelspec": {
      "display_name": "Python 3",
      "language": "python",
      "name": "python3"
    },
    "language_info": {
      "codemirror_mode": {
        "name": "ipython",
        "version": 3
      },
      "file_extension": ".py",
      "mimetype": "text/x-python",
      "name": "python",
      "nbconvert_exporter": "python",
      "pygments_lexer": "ipython3",
      "version": "3.11.9"
    }
  },
  "nbformat": 4,
  "nbformat_minor": 0
}
